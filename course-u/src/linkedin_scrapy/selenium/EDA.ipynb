{
 "cells": [
  {
   "cell_type": "code",
   "execution_count": 1,
   "metadata": {},
   "outputs": [],
   "source": [
    "import pandas as pd"
   ]
  },
  {
   "cell_type": "code",
   "execution_count": 3,
   "metadata": {},
   "outputs": [
    {
     "data": {
      "text/html": [
       "<div>\n",
       "<style scoped>\n",
       "    .dataframe tbody tr th:only-of-type {\n",
       "        vertical-align: middle;\n",
       "    }\n",
       "\n",
       "    .dataframe tbody tr th {\n",
       "        vertical-align: top;\n",
       "    }\n",
       "\n",
       "    .dataframe thead th {\n",
       "        text-align: right;\n",
       "    }\n",
       "</style>\n",
       "<table border=\"1\" class=\"dataframe\">\n",
       "  <thead>\n",
       "    <tr style=\"text-align: right;\">\n",
       "      <th></th>\n",
       "      <th>jobpost_id</th>\n",
       "      <th>Link</th>\n",
       "      <th>Job_Title</th>\n",
       "      <th>Company_Name</th>\n",
       "      <th>Company_link</th>\n",
       "      <th>Date</th>\n",
       "      <th>Keyword</th>\n",
       "      <th>Keyword_id</th>\n",
       "      <th>Location</th>\n",
       "      <th>Employment_Type</th>\n",
       "      <th>Job_Function</th>\n",
       "      <th>Industries</th>\n",
       "      <th>Seniority_Level</th>\n",
       "      <th>Job_Description</th>\n",
       "    </tr>\n",
       "  </thead>\n",
       "  <tbody>\n",
       "    <tr>\n",
       "      <th>5</th>\n",
       "      <td>6</td>\n",
       "      <td>https://linkedin.com/jobs/view/software-engine...</td>\n",
       "      <td>Software Engineer I (Entry Level)</td>\n",
       "      <td>Stealth Monitoring, Inc.</td>\n",
       "      <td>https://www.linkedin.com/company/stealth-monit...</td>\n",
       "      <td>2023-07-10</td>\n",
       "      <td>software development</td>\n",
       "      <td>1</td>\n",
       "      <td>Pasig, National Capital Region, Philippines</td>\n",
       "      <td>Full-time</td>\n",
       "      <td>Engineering and Information Technology</td>\n",
       "      <td>Security and Investigations</td>\n",
       "      <td>Entry level</td>\n",
       "      <td>\\n        Stealth Monitoring is looking for ta...</td>\n",
       "    </tr>\n",
       "    <tr>\n",
       "      <th>6</th>\n",
       "      <td>7</td>\n",
       "      <td>https://linkedin.com/jobs/view/software-develo...</td>\n",
       "      <td>Software Developer</td>\n",
       "      <td>ICAS Technology (S) Pte Ltd</td>\n",
       "      <td>https://sg.linkedin.com/company/icastechnology...</td>\n",
       "      <td>2023-05-15</td>\n",
       "      <td>software development</td>\n",
       "      <td>1</td>\n",
       "      <td>Philippines</td>\n",
       "      <td>Full-time</td>\n",
       "      <td>Engineering and Information Technology</td>\n",
       "      <td>Software Development</td>\n",
       "      <td>Entry level</td>\n",
       "      <td>\\n        ICAS has been a leader in IT consult...</td>\n",
       "    </tr>\n",
       "    <tr>\n",
       "      <th>7</th>\n",
       "      <td>8</td>\n",
       "      <td>https://linkedin.com/jobs/view/software-develo...</td>\n",
       "      <td>Software Developer</td>\n",
       "      <td>Geoplan Philippines, Inc.</td>\n",
       "      <td>https://linkedin.com/company/geoplanph?trk=pub...</td>\n",
       "      <td>2023-10-04</td>\n",
       "      <td>software development</td>\n",
       "      <td>1</td>\n",
       "      <td>Manila, National Capital Region, Philippines</td>\n",
       "      <td>Full-time</td>\n",
       "      <td>Information Technology</td>\n",
       "      <td>Computer Hardware Manufacturing</td>\n",
       "      <td>Entry level</td>\n",
       "      <td>\\n        Geoplan Philippines, Inc. is a Distr...</td>\n",
       "    </tr>\n",
       "    <tr>\n",
       "      <th>8</th>\n",
       "      <td>9</td>\n",
       "      <td>https://linkedin.com/jobs/view/software-engine...</td>\n",
       "      <td>Software Engineer (Full Stack Javascript) - Re...</td>\n",
       "      <td>Magic</td>\n",
       "      <td>https://www.linkedin.com/company/get-magic-now...</td>\n",
       "      <td>2023-09-13</td>\n",
       "      <td>software development</td>\n",
       "      <td>1</td>\n",
       "      <td>Philippines</td>\n",
       "      <td>Full-time</td>\n",
       "      <td>Engineering</td>\n",
       "      <td>Technology, Information and Internet</td>\n",
       "      <td>Mid-Senior level</td>\n",
       "      <td>\\n        &lt;strong&gt;About Magic&lt;/strong&gt;&lt;p&gt;&lt;br&gt;&lt;...</td>\n",
       "    </tr>\n",
       "    <tr>\n",
       "      <th>9</th>\n",
       "      <td>10</td>\n",
       "      <td>https://linkedin.com/jobs/view/low-code-develo...</td>\n",
       "      <td>Low Code Developer</td>\n",
       "      <td>MedGrocer</td>\n",
       "      <td>https://linkedin.com/company/medgrocer?trk=pub...</td>\n",
       "      <td>2023-10-03</td>\n",
       "      <td>software development</td>\n",
       "      <td>1</td>\n",
       "      <td>Manila, National Capital Region, Philippines</td>\n",
       "      <td>Full-time</td>\n",
       "      <td>Engineering and Information Technology</td>\n",
       "      <td>Wellness and Fitness Services</td>\n",
       "      <td>Entry level</td>\n",
       "      <td>\\n        MedGrocer's digitally-enabled \"medic...</td>\n",
       "    </tr>\n",
       "  </tbody>\n",
       "</table>\n",
       "</div>"
      ],
      "text/plain": [
       "   jobpost_id                                               Link  \\\n",
       "5           6  https://linkedin.com/jobs/view/software-engine...   \n",
       "6           7  https://linkedin.com/jobs/view/software-develo...   \n",
       "7           8  https://linkedin.com/jobs/view/software-develo...   \n",
       "8           9  https://linkedin.com/jobs/view/software-engine...   \n",
       "9          10  https://linkedin.com/jobs/view/low-code-develo...   \n",
       "\n",
       "                                           Job_Title  \\\n",
       "5                  Software Engineer I (Entry Level)   \n",
       "6                                 Software Developer   \n",
       "7                                 Software Developer   \n",
       "8  Software Engineer (Full Stack Javascript) - Re...   \n",
       "9                                 Low Code Developer   \n",
       "\n",
       "                  Company_Name  \\\n",
       "5     Stealth Monitoring, Inc.   \n",
       "6  ICAS Technology (S) Pte Ltd   \n",
       "7    Geoplan Philippines, Inc.   \n",
       "8                        Magic   \n",
       "9                    MedGrocer   \n",
       "\n",
       "                                        Company_link        Date  \\\n",
       "5  https://www.linkedin.com/company/stealth-monit...  2023-07-10   \n",
       "6  https://sg.linkedin.com/company/icastechnology...  2023-05-15   \n",
       "7  https://linkedin.com/company/geoplanph?trk=pub...  2023-10-04   \n",
       "8  https://www.linkedin.com/company/get-magic-now...  2023-09-13   \n",
       "9  https://linkedin.com/company/medgrocer?trk=pub...  2023-10-03   \n",
       "\n",
       "                Keyword  Keyword_id  \\\n",
       "5  software development           1   \n",
       "6  software development           1   \n",
       "7  software development           1   \n",
       "8  software development           1   \n",
       "9  software development           1   \n",
       "\n",
       "                                       Location Employment_Type  \\\n",
       "5   Pasig, National Capital Region, Philippines       Full-time   \n",
       "6                                   Philippines       Full-time   \n",
       "7  Manila, National Capital Region, Philippines       Full-time   \n",
       "8                                   Philippines       Full-time   \n",
       "9  Manila, National Capital Region, Philippines       Full-time   \n",
       "\n",
       "                             Job_Function  \\\n",
       "5  Engineering and Information Technology   \n",
       "6  Engineering and Information Technology   \n",
       "7                  Information Technology   \n",
       "8                             Engineering   \n",
       "9  Engineering and Information Technology   \n",
       "\n",
       "                             Industries   Seniority_Level  \\\n",
       "5           Security and Investigations       Entry level   \n",
       "6                  Software Development       Entry level   \n",
       "7       Computer Hardware Manufacturing       Entry level   \n",
       "8  Technology, Information and Internet  Mid-Senior level   \n",
       "9         Wellness and Fitness Services       Entry level   \n",
       "\n",
       "                                     Job_Description  \n",
       "5  \\n        Stealth Monitoring is looking for ta...  \n",
       "6  \\n        ICAS has been a leader in IT consult...  \n",
       "7  \\n        Geoplan Philippines, Inc. is a Distr...  \n",
       "8  \\n        <strong>About Magic</strong><p><br><...  \n",
       "9  \\n        MedGrocer's digitally-enabled \"medic...  "
      ]
     },
     "execution_count": 3,
     "metadata": {},
     "output_type": "execute_result"
    }
   ],
   "source": [
    "df = pd.read_csv('jobs_post_2.csv')\n",
    "df.tail()"
   ]
  },
  {
   "cell_type": "code",
   "execution_count": 10,
   "metadata": {},
   "outputs": [
    {
     "data": {
      "text/plain": [
       "Index(['jobpost_id', 'Link', 'Job_Title', 'Company_Name', 'Company_link',\n",
       "       'Date', 'Keyword', 'Location', 'Employment_Type', 'Job_Function',\n",
       "       'Industries', 'Seniority_Level', 'Job_Description'],\n",
       "      dtype='object')"
      ]
     },
     "execution_count": 10,
     "metadata": {},
     "output_type": "execute_result"
    }
   ],
   "source": [
    "# print columns\n",
    "df.columns"
   ]
  },
  {
   "cell_type": "code",
   "execution_count": 11,
   "metadata": {},
   "outputs": [
    {
     "name": "stdout",
     "output_type": "stream",
     "text": [
      "<class 'pandas.core.frame.DataFrame'>\n",
      "RangeIndex: 57 entries, 0 to 56\n",
      "Data columns (total 13 columns):\n",
      " #   Column           Non-Null Count  Dtype \n",
      "---  ------           --------------  ----- \n",
      " 0   jobpost_id       57 non-null     int64 \n",
      " 1   Link             57 non-null     object\n",
      " 2   Job_Title        57 non-null     object\n",
      " 3   Company_Name     57 non-null     object\n",
      " 4   Company_link     57 non-null     object\n",
      " 5   Date             57 non-null     object\n",
      " 6   Keyword          57 non-null     object\n",
      " 7   Location         57 non-null     object\n",
      " 8   Employment_Type  57 non-null     object\n",
      " 9   Job_Function     57 non-null     object\n",
      " 10  Industries       57 non-null     object\n",
      " 11  Seniority_Level  57 non-null     object\n",
      " 12  Job_Description  57 non-null     object\n",
      "dtypes: int64(1), object(12)\n",
      "memory usage: 5.9+ KB\n"
     ]
    }
   ],
   "source": [
    "df.info()"
   ]
  },
  {
   "cell_type": "code",
   "execution_count": 12,
   "metadata": {},
   "outputs": [
    {
     "data": {
      "text/plain": [
       "0"
      ]
     },
     "execution_count": 12,
     "metadata": {},
     "output_type": "execute_result"
    }
   ],
   "source": [
    "# identify if there are duplicates\n",
    "df.duplicated().sum()"
   ]
  },
  {
   "cell_type": "code",
   "execution_count": 13,
   "metadata": {},
   "outputs": [
    {
     "name": "stdout",
     "output_type": "stream",
     "text": [
      "jobpost_id 57\n",
      "Link 57\n",
      "Job_Title 50\n",
      "Company_Name 42\n",
      "Company_link 42\n",
      "Date 41\n",
      "Keyword 4\n",
      "Location 16\n",
      "Employment_Type 2\n",
      "Job_Function 14\n",
      "Industries 22\n",
      "Seniority_Level 4\n",
      "Job_Description 57\n"
     ]
    }
   ],
   "source": [
    "# unique values in each column\n",
    "for col in df.columns:\n",
    "    print(col, df[col].nunique())\n"
   ]
  },
  {
   "cell_type": "code",
   "execution_count": null,
   "metadata": {},
   "outputs": [],
   "source": [
    "# extract tech-stack, skills, adjectives and nouns from job description\n"
   ]
  }
 ],
 "metadata": {
  "kernelspec": {
   "display_name": "Python 3",
   "language": "python",
   "name": "python3"
  },
  "language_info": {
   "codemirror_mode": {
    "name": "ipython",
    "version": 3
   },
   "file_extension": ".py",
   "mimetype": "text/x-python",
   "name": "python",
   "nbconvert_exporter": "python",
   "pygments_lexer": "ipython3",
   "version": "3.8.5"
  },
  "orig_nbformat": 4
 },
 "nbformat": 4,
 "nbformat_minor": 2
}
