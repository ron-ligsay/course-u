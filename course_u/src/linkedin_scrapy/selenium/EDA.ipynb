{
 "cells": [
  {
   "cell_type": "code",
   "execution_count": 1,
   "metadata": {},
   "outputs": [],
   "source": [
    "import pandas as pd"
   ]
  },
  {
   "cell_type": "code",
   "execution_count": 8,
   "metadata": {},
   "outputs": [
    {
     "data": {
      "text/html": [
       "<div>\n",
       "<style scoped>\n",
       "    .dataframe tbody tr th:only-of-type {\n",
       "        vertical-align: middle;\n",
       "    }\n",
       "\n",
       "    .dataframe tbody tr th {\n",
       "        vertical-align: top;\n",
       "    }\n",
       "\n",
       "    .dataframe thead th {\n",
       "        text-align: right;\n",
       "    }\n",
       "</style>\n",
       "<table border=\"1\" class=\"dataframe\">\n",
       "  <thead>\n",
       "    <tr style=\"text-align: right;\">\n",
       "      <th></th>\n",
       "      <th>id</th>\n",
       "      <th>link</th>\n",
       "      <th>job_title</th>\n",
       "      <th>company_name</th>\n",
       "      <th>company_link</th>\n",
       "      <th>date_posted</th>\n",
       "      <th>keyword</th>\n",
       "      <th>keyword_id</th>\n",
       "      <th>location</th>\n",
       "      <th>employment_type</th>\n",
       "      <th>job_function</th>\n",
       "      <th>industries</th>\n",
       "      <th>seniority_level</th>\n",
       "      <th>job_description</th>\n",
       "    </tr>\n",
       "  </thead>\n",
       "  <tbody>\n",
       "    <tr>\n",
       "      <th>14</th>\n",
       "      <td>15</td>\n",
       "      <td>https://linkedin.com/jobs/view/product-designe...</td>\n",
       "      <td>Product Designer</td>\n",
       "      <td>Smartsourcing</td>\n",
       "      <td>https://au.linkedin.com/company/smartsourcingc...</td>\n",
       "      <td>2023-11-18</td>\n",
       "      <td>design and ui/ux</td>\n",
       "      <td>3</td>\n",
       "      <td>Cebu, Central Visayas, Philippines</td>\n",
       "      <td>Full-time</td>\n",
       "      <td>Design, Art/Creative, and Information Technology</td>\n",
       "      <td>Technology, Information and Internet</td>\n",
       "      <td>Mid-Senior level</td>\n",
       "      <td>\\n        Hi! We’re Smartsourcing, looking for...</td>\n",
       "    </tr>\n",
       "    <tr>\n",
       "      <th>15</th>\n",
       "      <td>16</td>\n",
       "      <td>https://linkedin.com/jobs/view/website-designe...</td>\n",
       "      <td>Website Designer</td>\n",
       "      <td>Strikingly</td>\n",
       "      <td>https://cn.linkedin.com/company/striking-ly?tr...</td>\n",
       "      <td>2023-10-26</td>\n",
       "      <td>design and ui/ux</td>\n",
       "      <td>3</td>\n",
       "      <td>Mataas Na Kahoy, Calabarzon, Philippines</td>\n",
       "      <td>Full-time</td>\n",
       "      <td>Design, Art/Creative, and Information Technology</td>\n",
       "      <td>Technology, Information and Internet</td>\n",
       "      <td>Entry level</td>\n",
       "      <td>\\n        Join Our Team at Strikingly&lt;br&gt;&lt;br&gt;S...</td>\n",
       "    </tr>\n",
       "    <tr>\n",
       "      <th>16</th>\n",
       "      <td>17</td>\n",
       "      <td>https://linkedin.com/jobs/view/multimedia-desi...</td>\n",
       "      <td>Multimedia Designer (Onsite, Bulacan)</td>\n",
       "      <td>Kwanii</td>\n",
       "      <td>https://au.linkedin.com/company/kwanii?trk=pub...</td>\n",
       "      <td>2023-11-11</td>\n",
       "      <td>design and ui/ux</td>\n",
       "      <td>3</td>\n",
       "      <td>Bulacan, Central Luzon, Philippines</td>\n",
       "      <td>Full-time</td>\n",
       "      <td>Design, Art/Creative, and Information Technology</td>\n",
       "      <td>Internet Publishing</td>\n",
       "      <td>Entry level</td>\n",
       "      <td>\\n        We're on the lookout for a dynamic &lt;...</td>\n",
       "    </tr>\n",
       "    <tr>\n",
       "      <th>17</th>\n",
       "      <td>18</td>\n",
       "      <td>https://linkedin.com/jobs/view/ui-ux-designer-...</td>\n",
       "      <td>UI/UX Designer</td>\n",
       "      <td>PRISM+</td>\n",
       "      <td>https://sg.linkedin.com/company/prismplus?trk=...</td>\n",
       "      <td>2023-09-15</td>\n",
       "      <td>design and ui/ux</td>\n",
       "      <td>3</td>\n",
       "      <td>Cebu, Central Visayas, Philippines</td>\n",
       "      <td>Full-time</td>\n",
       "      <td>Engineering and Information Technology</td>\n",
       "      <td>Technology, Information and Internet</td>\n",
       "      <td>Entry level</td>\n",
       "      <td>\\n        PRISM+ is currently seeking a highly...</td>\n",
       "    </tr>\n",
       "    <tr>\n",
       "      <th>18</th>\n",
       "      <td>19</td>\n",
       "      <td>https://linkedin.com/jobs/view/ui-ux-designer-...</td>\n",
       "      <td>UI/UX Designer</td>\n",
       "      <td>VCC Link, Inc.</td>\n",
       "      <td>https://linkedin.com/company/vcc-link?trk=publ...</td>\n",
       "      <td>2023-07-14</td>\n",
       "      <td>design and ui/ux</td>\n",
       "      <td>3</td>\n",
       "      <td>Manila, National Capital Region, Philippines</td>\n",
       "      <td>Full-time</td>\n",
       "      <td>Engineering and Information Technology</td>\n",
       "      <td>Software Development</td>\n",
       "      <td>Entry level</td>\n",
       "      <td>\\n        &lt;strong&gt;VCC Link, Inc. &lt;/strong&gt;was ...</td>\n",
       "    </tr>\n",
       "  </tbody>\n",
       "</table>\n",
       "</div>"
      ],
      "text/plain": [
       "    id                                               link  \\\n",
       "14  15  https://linkedin.com/jobs/view/product-designe...   \n",
       "15  16  https://linkedin.com/jobs/view/website-designe...   \n",
       "16  17  https://linkedin.com/jobs/view/multimedia-desi...   \n",
       "17  18  https://linkedin.com/jobs/view/ui-ux-designer-...   \n",
       "18  19  https://linkedin.com/jobs/view/ui-ux-designer-...   \n",
       "\n",
       "                                job_title    company_name  \\\n",
       "14                       Product Designer   Smartsourcing   \n",
       "15                       Website Designer      Strikingly   \n",
       "16  Multimedia Designer (Onsite, Bulacan)          Kwanii   \n",
       "17                         UI/UX Designer          PRISM+   \n",
       "18                         UI/UX Designer  VCC Link, Inc.   \n",
       "\n",
       "                                         company_link date_posted  \\\n",
       "14  https://au.linkedin.com/company/smartsourcingc...  2023-11-18   \n",
       "15  https://cn.linkedin.com/company/striking-ly?tr...  2023-10-26   \n",
       "16  https://au.linkedin.com/company/kwanii?trk=pub...  2023-11-11   \n",
       "17  https://sg.linkedin.com/company/prismplus?trk=...  2023-09-15   \n",
       "18  https://linkedin.com/company/vcc-link?trk=publ...  2023-07-14   \n",
       "\n",
       "             keyword  keyword_id  \\\n",
       "14  design and ui/ux           3   \n",
       "15  design and ui/ux           3   \n",
       "16  design and ui/ux           3   \n",
       "17  design and ui/ux           3   \n",
       "18  design and ui/ux           3   \n",
       "\n",
       "                                        location employment_type  \\\n",
       "14            Cebu, Central Visayas, Philippines       Full-time   \n",
       "15      Mataas Na Kahoy, Calabarzon, Philippines       Full-time   \n",
       "16           Bulacan, Central Luzon, Philippines       Full-time   \n",
       "17            Cebu, Central Visayas, Philippines       Full-time   \n",
       "18  Manila, National Capital Region, Philippines       Full-time   \n",
       "\n",
       "                                        job_function  \\\n",
       "14  Design, Art/Creative, and Information Technology   \n",
       "15  Design, Art/Creative, and Information Technology   \n",
       "16  Design, Art/Creative, and Information Technology   \n",
       "17            Engineering and Information Technology   \n",
       "18            Engineering and Information Technology   \n",
       "\n",
       "                              industries   seniority_level  \\\n",
       "14  Technology, Information and Internet  Mid-Senior level   \n",
       "15  Technology, Information and Internet       Entry level   \n",
       "16                   Internet Publishing       Entry level   \n",
       "17  Technology, Information and Internet       Entry level   \n",
       "18                  Software Development       Entry level   \n",
       "\n",
       "                                      job_description  \n",
       "14  \\n        Hi! We’re Smartsourcing, looking for...  \n",
       "15  \\n        Join Our Team at Strikingly<br><br>S...  \n",
       "16  \\n        We're on the lookout for a dynamic <...  \n",
       "17  \\n        PRISM+ is currently seeking a highly...  \n",
       "18  \\n        <strong>VCC Link, Inc. </strong>was ...  "
      ]
     },
     "execution_count": 8,
     "metadata": {},
     "output_type": "execute_result"
    }
   ],
   "source": [
    "df = pd.read_csv('jobs_post_5.csv')\n",
    "df.tail()"
   ]
  },
  {
   "cell_type": "code",
   "execution_count": 9,
   "metadata": {},
   "outputs": [
    {
     "data": {
      "text/plain": [
       "Index(['id', 'link', 'job_title', 'company_name', 'company_link',\n",
       "       'date_posted', 'keyword', 'keyword_id', 'location', 'employment_type',\n",
       "       'job_function', 'industries', 'seniority_level', 'job_description'],\n",
       "      dtype='object')"
      ]
     },
     "execution_count": 9,
     "metadata": {},
     "output_type": "execute_result"
    }
   ],
   "source": [
    "# print columns\n",
    "df.columns"
   ]
  },
  {
   "cell_type": "code",
   "execution_count": 10,
   "metadata": {},
   "outputs": [
    {
     "name": "stdout",
     "output_type": "stream",
     "text": [
      "<class 'pandas.core.frame.DataFrame'>\n",
      "RangeIndex: 19 entries, 0 to 18\n",
      "Data columns (total 14 columns):\n",
      " #   Column           Non-Null Count  Dtype \n",
      "---  ------           --------------  ----- \n",
      " 0   id               19 non-null     int64 \n",
      " 1   link             19 non-null     object\n",
      " 2   job_title        19 non-null     object\n",
      " 3   company_name     19 non-null     object\n",
      " 4   company_link     19 non-null     object\n",
      " 5   date_posted      19 non-null     object\n",
      " 6   keyword          19 non-null     object\n",
      " 7   keyword_id       19 non-null     int64 \n",
      " 8   location         19 non-null     object\n",
      " 9   employment_type  19 non-null     object\n",
      " 10  job_function     19 non-null     object\n",
      " 11  industries       19 non-null     object\n",
      " 12  seniority_level  19 non-null     object\n",
      " 13  job_description  19 non-null     object\n",
      "dtypes: int64(2), object(12)\n",
      "memory usage: 2.2+ KB\n"
     ]
    }
   ],
   "source": [
    "df.info()"
   ]
  },
  {
   "cell_type": "code",
   "execution_count": 12,
   "metadata": {},
   "outputs": [
    {
     "data": {
      "text/plain": [
       "0"
      ]
     },
     "execution_count": 12,
     "metadata": {},
     "output_type": "execute_result"
    }
   ],
   "source": [
    "# identify if there are duplicates\n",
    "df.duplicated().sum()"
   ]
  },
  {
   "cell_type": "code",
   "execution_count": 13,
   "metadata": {},
   "outputs": [
    {
     "name": "stdout",
     "output_type": "stream",
     "text": [
      "jobpost_id 57\n",
      "Link 57\n",
      "Job_Title 50\n",
      "Company_Name 42\n",
      "Company_link 42\n",
      "Date 41\n",
      "Keyword 4\n",
      "Location 16\n",
      "Employment_Type 2\n",
      "Job_Function 14\n",
      "Industries 22\n",
      "Seniority_Level 4\n",
      "Job_Description 57\n"
     ]
    }
   ],
   "source": [
    "# unique values in each column\n",
    "for col in df.columns:\n",
    "    print(col, df[col].nunique())"
   ]
  },
  {
   "cell_type": "code",
   "execution_count": 2,
   "metadata": {},
   "outputs": [],
   "source": [
    "import pandas as pd\n",
    "df_1 = pd.read_csv('jobs_post_4.csv')\n",
    "df_2 = pd.read_csv('jobs_post_5.csv')"
   ]
  },
  {
   "cell_type": "code",
   "execution_count": 3,
   "metadata": {},
   "outputs": [
    {
     "name": "stdout",
     "output_type": "stream",
     "text": [
      "df size:  (124, 14)\n",
      "df size:  (19, 14)\n"
     ]
    }
   ],
   "source": [
    "# extract tech-stack, skills, adjectives and nouns from job description\n",
    "print(\"df size: \", df_1.shape)\n",
    "print(\"df size: \", df_2.shape)"
   ]
  },
  {
   "cell_type": "code",
   "execution_count": 4,
   "metadata": {},
   "outputs": [
    {
     "name": "stdout",
     "output_type": "stream",
     "text": [
      "df size:  (143, 14)\n"
     ]
    }
   ],
   "source": [
    "# concat two dataframes\n",
    "df = pd.concat([df_1, df_2], ignore_index=True)\n",
    "print(\"df size: \", df.shape)"
   ]
  },
  {
   "cell_type": "code",
   "execution_count": 5,
   "metadata": {},
   "outputs": [
    {
     "data": {
      "text/plain": [
       "Index(['id', 'link', 'job_title', 'company_name', 'company_link',\n",
       "       'date_posted', 'keyword', 'keyword_id', 'location', 'employment_type',\n",
       "       'job_function', 'industries', 'seniority_level', 'job_description'],\n",
       "      dtype='object')"
      ]
     },
     "execution_count": 5,
     "metadata": {},
     "output_type": "execute_result"
    }
   ],
   "source": [
    "df.columns"
   ]
  },
  {
   "cell_type": "code",
   "execution_count": 6,
   "metadata": {},
   "outputs": [],
   "source": [
    "# drop 'id' and add new id\n",
    "df = df.drop(columns=['id'])\n",
    "# reset index\n",
    "df = df.reset_index(drop=True)\n",
    "# add new id\n",
    "df['id'] = df.index + 1"
   ]
  },
  {
   "cell_type": "code",
   "execution_count": 7,
   "metadata": {},
   "outputs": [],
   "source": [
    "# renamed keyword id to field_id\n",
    "df = df.rename(columns={'keyword_id': 'field_id'})"
   ]
  },
  {
   "cell_type": "code",
   "execution_count": 8,
   "metadata": {},
   "outputs": [
    {
     "data": {
      "text/html": [
       "<div>\n",
       "<style scoped>\n",
       "    .dataframe tbody tr th:only-of-type {\n",
       "        vertical-align: middle;\n",
       "    }\n",
       "\n",
       "    .dataframe tbody tr th {\n",
       "        vertical-align: top;\n",
       "    }\n",
       "\n",
       "    .dataframe thead th {\n",
       "        text-align: right;\n",
       "    }\n",
       "</style>\n",
       "<table border=\"1\" class=\"dataframe\">\n",
       "  <thead>\n",
       "    <tr style=\"text-align: right;\">\n",
       "      <th></th>\n",
       "      <th>id</th>\n",
       "      <th>link</th>\n",
       "      <th>keyword</th>\n",
       "      <th>job_title</th>\n",
       "      <th>company_name</th>\n",
       "      <th>company_link</th>\n",
       "      <th>date_posted</th>\n",
       "      <th>location</th>\n",
       "      <th>employment_type</th>\n",
       "      <th>job_function</th>\n",
       "      <th>industries</th>\n",
       "      <th>seniority_level</th>\n",
       "      <th>job_description</th>\n",
       "      <th>field_id</th>\n",
       "    </tr>\n",
       "  </thead>\n",
       "  <tbody>\n",
       "    <tr>\n",
       "      <th>0</th>\n",
       "      <td>1</td>\n",
       "      <td>https://linkedin.com/jobs/view/web-developer-a...</td>\n",
       "      <td>software development</td>\n",
       "      <td>Web Developer</td>\n",
       "      <td>INQUIRER.net</td>\n",
       "      <td>https://linkedin.com/company/inquirerdotnet?tr...</td>\n",
       "      <td>2023-10-25</td>\n",
       "      <td>Manila, National Capital Region, Philippines</td>\n",
       "      <td>Full-time</td>\n",
       "      <td>Engineering and Information Technology</td>\n",
       "      <td>Online Media</td>\n",
       "      <td>Entry level</td>\n",
       "      <td>\\n        &lt;ul&gt;&lt;li&gt;Develops efficient and optim...</td>\n",
       "      <td>1</td>\n",
       "    </tr>\n",
       "    <tr>\n",
       "      <th>1</th>\n",
       "      <td>2</td>\n",
       "      <td>https://linkedin.com/jobs/view/business-analys...</td>\n",
       "      <td>software development</td>\n",
       "      <td>Business Analyst</td>\n",
       "      <td>Cebu Pacific Air</td>\n",
       "      <td>https://linkedin.com/company/cebupacificair?tr...</td>\n",
       "      <td>2023-11-03</td>\n",
       "      <td>Pasay, National Capital Region, Philippines</td>\n",
       "      <td>Full-time</td>\n",
       "      <td>Research, Analyst, and Information Technology</td>\n",
       "      <td>Airlines and Aviation</td>\n",
       "      <td>Mid-Senior level</td>\n",
       "      <td>\\n        &lt;strong&gt;Department&lt;/strong&gt;&lt;p&gt;&lt;br&gt;&lt;/...</td>\n",
       "      <td>1</td>\n",
       "    </tr>\n",
       "    <tr>\n",
       "      <th>2</th>\n",
       "      <td>3</td>\n",
       "      <td>https://linkedin.com/jobs/view/junior-software...</td>\n",
       "      <td>software development</td>\n",
       "      <td>Junior Software Engineer (Remote)</td>\n",
       "      <td>Spectrum One</td>\n",
       "      <td>https://linkedin.com/company/spectrum-one-soft...</td>\n",
       "      <td>2023-11-15</td>\n",
       "      <td>Quezon City, National Capital Region, Philippines</td>\n",
       "      <td>Full-time</td>\n",
       "      <td>Other</td>\n",
       "      <td>Software Development</td>\n",
       "      <td>Entry level</td>\n",
       "      <td>\\n        Spectrum One is Hiring&lt;br&gt;&lt;br&gt;👋 Hell...</td>\n",
       "      <td>1</td>\n",
       "    </tr>\n",
       "    <tr>\n",
       "      <th>3</th>\n",
       "      <td>4</td>\n",
       "      <td>https://linkedin.com/jobs/view/software-engine...</td>\n",
       "      <td>software development</td>\n",
       "      <td>Software Engineer | Makati</td>\n",
       "      <td>MedGrocer</td>\n",
       "      <td>https://linkedin.com/company/medgrocer?trk=pub...</td>\n",
       "      <td>2023-10-06</td>\n",
       "      <td>Manila, National Capital Region, Philippines</td>\n",
       "      <td>Full-time</td>\n",
       "      <td>Engineering and Information Technology</td>\n",
       "      <td>Wellness and Fitness Services</td>\n",
       "      <td>Entry level</td>\n",
       "      <td>\\n        MedGrocer's digitally-enabled \"medic...</td>\n",
       "      <td>1</td>\n",
       "    </tr>\n",
       "    <tr>\n",
       "      <th>4</th>\n",
       "      <td>5</td>\n",
       "      <td>https://linkedin.com/jobs/view/administrator-b...</td>\n",
       "      <td>software development</td>\n",
       "      <td>Administrator baz danych i aplikacji</td>\n",
       "      <td>ZUS</td>\n",
       "      <td>https://pl.linkedin.com/company/zus-pl?trk=pub...</td>\n",
       "      <td>2023-11-17</td>\n",
       "      <td>Centrala, Soccsksargen, Philippines</td>\n",
       "      <td>Full-time</td>\n",
       "      <td>Information Technology</td>\n",
       "      <td>Insurance</td>\n",
       "      <td>Entry level</td>\n",
       "      <td>\\n        &lt;ul&gt;&lt;li&gt;Nazwa jednostki organizacyjn...</td>\n",
       "      <td>1</td>\n",
       "    </tr>\n",
       "  </tbody>\n",
       "</table>\n",
       "</div>"
      ],
      "text/plain": [
       "   id                                               link  \\\n",
       "0   1  https://linkedin.com/jobs/view/web-developer-a...   \n",
       "1   2  https://linkedin.com/jobs/view/business-analys...   \n",
       "2   3  https://linkedin.com/jobs/view/junior-software...   \n",
       "3   4  https://linkedin.com/jobs/view/software-engine...   \n",
       "4   5  https://linkedin.com/jobs/view/administrator-b...   \n",
       "\n",
       "                keyword                             job_title  \\\n",
       "0  software development                         Web Developer   \n",
       "1  software development                      Business Analyst   \n",
       "2  software development     Junior Software Engineer (Remote)   \n",
       "3  software development            Software Engineer | Makati   \n",
       "4  software development  Administrator baz danych i aplikacji   \n",
       "\n",
       "       company_name                                       company_link  \\\n",
       "0      INQUIRER.net  https://linkedin.com/company/inquirerdotnet?tr...   \n",
       "1  Cebu Pacific Air  https://linkedin.com/company/cebupacificair?tr...   \n",
       "2      Spectrum One  https://linkedin.com/company/spectrum-one-soft...   \n",
       "3         MedGrocer  https://linkedin.com/company/medgrocer?trk=pub...   \n",
       "4               ZUS  https://pl.linkedin.com/company/zus-pl?trk=pub...   \n",
       "\n",
       "  date_posted                                           location  \\\n",
       "0  2023-10-25       Manila, National Capital Region, Philippines   \n",
       "1  2023-11-03        Pasay, National Capital Region, Philippines   \n",
       "2  2023-11-15  Quezon City, National Capital Region, Philippines   \n",
       "3  2023-10-06       Manila, National Capital Region, Philippines   \n",
       "4  2023-11-17                Centrala, Soccsksargen, Philippines   \n",
       "\n",
       "  employment_type                                   job_function  \\\n",
       "0       Full-time         Engineering and Information Technology   \n",
       "1       Full-time  Research, Analyst, and Information Technology   \n",
       "2       Full-time                                          Other   \n",
       "3       Full-time         Engineering and Information Technology   \n",
       "4       Full-time                         Information Technology   \n",
       "\n",
       "                      industries   seniority_level  \\\n",
       "0                   Online Media       Entry level   \n",
       "1          Airlines and Aviation  Mid-Senior level   \n",
       "2           Software Development       Entry level   \n",
       "3  Wellness and Fitness Services       Entry level   \n",
       "4                      Insurance       Entry level   \n",
       "\n",
       "                                     job_description  field_id  \n",
       "0  \\n        <ul><li>Develops efficient and optim...         1  \n",
       "1  \\n        <strong>Department</strong><p><br></...         1  \n",
       "2  \\n        Spectrum One is Hiring<br><br>👋 Hell...         1  \n",
       "3  \\n        MedGrocer's digitally-enabled \"medic...         1  \n",
       "4  \\n        <ul><li>Nazwa jednostki organizacyjn...         1  "
      ]
     },
     "execution_count": 8,
     "metadata": {},
     "output_type": "execute_result"
    }
   ],
   "source": [
    "# reorder columns\n",
    "df = df[['id','link','keyword','job_title','company_name','company_link','date_posted','location','employment_type', 'job_function','industries','seniority_level', 'job_description','field_id']]\n",
    "df.head()"
   ]
  },
  {
   "cell_type": "code",
   "execution_count": 9,
   "metadata": {},
   "outputs": [],
   "source": [
    "# save to csv\n",
    "df.to_csv('jobs_jobposting.csv', index=False)"
   ]
  },
  {
   "cell_type": "code",
   "execution_count": null,
   "metadata": {},
   "outputs": [],
   "source": []
  }
 ],
 "metadata": {
  "kernelspec": {
   "display_name": "Python 3",
   "language": "python",
   "name": "python3"
  },
  "language_info": {
   "codemirror_mode": {
    "name": "ipython",
    "version": 3
   },
   "file_extension": ".py",
   "mimetype": "text/x-python",
   "name": "python",
   "nbconvert_exporter": "python",
   "pygments_lexer": "ipython3",
   "version": "3.8.5"
  },
  "orig_nbformat": 4
 },
 "nbformat": 4,
 "nbformat_minor": 2
}
