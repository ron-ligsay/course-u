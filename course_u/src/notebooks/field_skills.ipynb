{
 "cells": [
  {
   "cell_type": "code",
   "execution_count": 1,
   "metadata": {},
   "outputs": [],
   "source": [
    "import pandas as pd\n",
    "import ast"
   ]
  },
  {
   "cell_type": "code",
   "execution_count": 2,
   "metadata": {},
   "outputs": [],
   "source": [
    "# load_csv\n",
    "# load csv\n",
    "test = pd.read_csv('../../static/csv/test_4.csv')\n",
    "specialization = pd.read_csv('../../static/csv/specialization5_.csv')\n",
    "subject = pd.read_csv('../../static/csv/subject_field.csv')"
   ]
  },
  {
   "cell_type": "code",
   "execution_count": 8,
   "metadata": {},
   "outputs": [
    {
     "data": {
      "text/html": [
       "<div>\n",
       "<style scoped>\n",
       "    .dataframe tbody tr th:only-of-type {\n",
       "        vertical-align: middle;\n",
       "    }\n",
       "\n",
       "    .dataframe tbody tr th {\n",
       "        vertical-align: top;\n",
       "    }\n",
       "\n",
       "    .dataframe thead th {\n",
       "        text-align: right;\n",
       "    }\n",
       "</style>\n",
       "<table border=\"1\" class=\"dataframe\">\n",
       "  <thead>\n",
       "    <tr style=\"text-align: right;\">\n",
       "      <th></th>\n",
       "      <th>question_id</th>\n",
       "      <th>question</th>\n",
       "      <th>description</th>\n",
       "      <th>options</th>\n",
       "      <th>correct_option</th>\n",
       "      <th>field_id</th>\n",
       "      <th>skill_list</th>\n",
       "    </tr>\n",
       "  </thead>\n",
       "  <tbody>\n",
       "    <tr>\n",
       "      <th>32</th>\n",
       "      <td>33</td>\n",
       "      <td>What is a code review, and why is it important...</td>\n",
       "      <td>Describe the process and significance of code ...</td>\n",
       "      <td>[\"Systematic examination of code by peers\", \"I...</td>\n",
       "      <td>0</td>\n",
       "      <td>1</td>\n",
       "      <td>[\"Code Review\",\"Software Development\",\"Collabo...</td>\n",
       "    </tr>\n",
       "  </tbody>\n",
       "</table>\n",
       "</div>"
      ],
      "text/plain": [
       "    question_id                                           question  \\\n",
       "32           33  What is a code review, and why is it important...   \n",
       "\n",
       "                                          description  \\\n",
       "32  Describe the process and significance of code ...   \n",
       "\n",
       "                                              options  correct_option  \\\n",
       "32  [\"Systematic examination of code by peers\", \"I...               0   \n",
       "\n",
       "    field_id                                         skill_list  \n",
       "32         1  [\"Code Review\",\"Software Development\",\"Collabo...  "
      ]
     },
     "execution_count": 8,
     "metadata": {},
     "output_type": "execute_result"
    }
   ],
   "source": [
    "# rename skills_list to skill_list\n",
    "test = test.rename(columns={'skills_list': 'skill_list'})\n",
    "test.sample(1)"
   ]
  },
  {
   "cell_type": "code",
   "execution_count": 9,
   "metadata": {},
   "outputs": [],
   "source": [
    "def clean_df(df):\n",
    "    df = df.dropna()\n",
    "    df = df.reset_index(drop=True)\n",
    "    # apply ast.literal_eval to convert string to list\n",
    "    df['skill_list'] = df['skill_list'].apply(ast.literal_eval)\n",
    "    # lower case all skills\n",
    "    df['skill_list'] = df['skill_list'].apply(lambda x: [y.lower() for y in x])\n",
    "    # remove - \n",
    "    df['skill_list'] = df['skill_list'].apply(lambda x: [y.replace('-', ' ') for y in x])\n",
    "    # remove skill\n",
    "    df['skill_list'] = df['skill_list'].apply(lambda x: [y.replace('skill', '') for y in x])\n",
    "    # remove skills\n",
    "    df['skill_list'] = df['skill_list'].apply(lambda x: [y.replace('skills', '') for y in x])\n",
    "    # strip\n",
    "    df['skill_list'] = df['skill_list'].apply(lambda x: [y.strip() for y in x])\n",
    "    # remove empty ''\n",
    "    df['skill_list'] = df['skill_list'].apply(lambda x: [y for y in x if y != ''])\n",
    "    # remove blanks\n",
    "    df['skill_list'] = df['skill_list'].apply(lambda x: [y for y in x if y != ' '])\n",
    "    # remove nan\n",
    "    df['skill_list'] = df['skill_list'].apply(lambda x: [y for y in x if y != 'nan'])\n",
    "\n",
    "    return df\n"
   ]
  },
  {
   "cell_type": "code",
   "execution_count": 10,
   "metadata": {},
   "outputs": [],
   "source": [
    "test = clean_df(test)\n",
    "specialization = clean_df(specialization)\n",
    "subject = clean_df(subject)"
   ]
  },
  {
   "cell_type": "code",
   "execution_count": null,
   "metadata": {},
   "outputs": [],
   "source": []
  },
  {
   "cell_type": "code",
   "execution_count": 11,
   "metadata": {},
   "outputs": [
    {
     "data": {
      "text/html": [
       "<div>\n",
       "<style scoped>\n",
       "    .dataframe tbody tr th:only-of-type {\n",
       "        vertical-align: middle;\n",
       "    }\n",
       "\n",
       "    .dataframe tbody tr th {\n",
       "        vertical-align: top;\n",
       "    }\n",
       "\n",
       "    .dataframe thead th {\n",
       "        text-align: right;\n",
       "    }\n",
       "</style>\n",
       "<table border=\"1\" class=\"dataframe\">\n",
       "  <thead>\n",
       "    <tr style=\"text-align: right;\">\n",
       "      <th></th>\n",
       "      <th>field_id</th>\n",
       "      <th>skill_list</th>\n",
       "    </tr>\n",
       "  </thead>\n",
       "  <tbody>\n",
       "    <tr>\n",
       "      <th>0</th>\n",
       "      <td>1</td>\n",
       "      <td>[]</td>\n",
       "    </tr>\n",
       "    <tr>\n",
       "      <th>1</th>\n",
       "      <td>2</td>\n",
       "      <td>[]</td>\n",
       "    </tr>\n",
       "    <tr>\n",
       "      <th>2</th>\n",
       "      <td>3</td>\n",
       "      <td>[]</td>\n",
       "    </tr>\n",
       "    <tr>\n",
       "      <th>3</th>\n",
       "      <td>4</td>\n",
       "      <td>[]</td>\n",
       "    </tr>\n",
       "    <tr>\n",
       "      <th>4</th>\n",
       "      <td>5</td>\n",
       "      <td>[]</td>\n",
       "    </tr>\n",
       "    <tr>\n",
       "      <th>5</th>\n",
       "      <td>6</td>\n",
       "      <td>[]</td>\n",
       "    </tr>\n",
       "  </tbody>\n",
       "</table>\n",
       "</div>"
      ],
      "text/plain": [
       "   field_id skill_list\n",
       "0         1         []\n",
       "1         2         []\n",
       "2         3         []\n",
       "3         4         []\n",
       "4         5         []\n",
       "5         6         []"
      ]
     },
     "execution_count": 11,
     "metadata": {},
     "output_type": "execute_result"
    }
   ],
   "source": [
    "# create a dataframe with field_id 1-6, and skill_list of list\n",
    "field_id = [1, 2, 3, 4, 5, 6]\n",
    "field_skills = pd.DataFrame({'field_id': field_id,\n",
    "                             'skill_list': [[] for _ in range(len(field_id))]})\n",
    "field_skills"
   ]
  },
  {
   "cell_type": "code",
   "execution_count": 17,
   "metadata": {},
   "outputs": [
    {
     "name": "stdout",
     "output_type": "stream",
     "text": [
      "   field_id                                         skill_list\n",
      "0         1  [version control, source code management, coll...\n",
      "1         2  [data cleaning, data preprocessing, data analy...\n",
      "2         3  [design principles, consistency in design, use...\n",
      "3         4  [product roadmap, product planning, product st...\n",
      "4         5  [regression testing, software testing, testing...\n",
      "5         6  [identity verification, authentication, access...\n",
      "   field_id                                         skill_list\n",
      "1         1  [html, css, javascript, web design, responsive...\n",
      "2         2  [business intelligence tools, tableau, power b...\n",
      "3         3  [user interface design, wireframing, prototypi...\n",
      "4         4  [product management, roadmap planning, agile m...\n",
      "5         5  [performance improvement, supply chain managem...\n",
      "6         6  [cybersecurity principles, security tools, fir...\n",
      "   field_id                                         skill_list\n",
      "0         1  [problem solving, programming, algorithms, pro...\n",
      "1         2  [formal languages, automata theory, language t...\n",
      "2         3  [user experience, interface design, usability,...\n",
      "3         4  [data management, information organization, da...\n",
      "4         5  [information security, cybersecurity, data pro...\n",
      "5         6  [operating systems, system administration, com...\n"
     ]
    }
   ],
   "source": [
    "# group by field_id\n",
    "test_grouped = test.groupby('field_id')['skill_list'].agg(sum).reset_index()\n",
    "print(test_grouped)\n",
    "specialization_grouped = specialization.groupby('field_id')['skill_list'].agg(sum).reset_index()\n",
    "specialization_grouped = specialization_grouped[specialization_grouped['field_id'] <= 6]\n",
    "specialization_grouped = specialization_grouped[specialization_grouped['field_id'] >= 1]\n",
    "print(specialization_grouped)\n",
    "subject_grouped = subject.groupby('field_id')['skill_list'].agg(sum).reset_index()\n",
    "print(subject_grouped)"
   ]
  },
  {
   "cell_type": "code",
   "execution_count": 20,
   "metadata": {},
   "outputs": [],
   "source": [
    "# combine all 3 dataframes to field_skills\n",
    "field_skills['skill_list'] = test_grouped['skill_list'].apply(lambda x: x * 5) + specialization_grouped['skill_list'] + subject_grouped['skill_list'].apply(lambda x: x * 5)"
   ]
  },
  {
   "cell_type": "code",
   "execution_count": 22,
   "metadata": {},
   "outputs": [
    {
     "data": {
      "text/plain": [
       "11888"
      ]
     },
     "execution_count": 22,
     "metadata": {},
     "output_type": "execute_result"
    }
   ],
   "source": [
    "field_1_skills = test_grouped[test_grouped['field_id'] == 1]['skill_list'].values[0] * 5 + specialization_grouped[specialization_grouped['field_id'] == 1]['skill_list'].values[0] + subject_grouped[subject_grouped['field_id'] == 1]['skill_list'].values[0] * 5\n",
    "len(field_1_skills)"
   ]
  },
  {
   "cell_type": "code",
   "execution_count": 25,
   "metadata": {},
   "outputs": [
    {
     "data": {
      "text/html": [
       "<div>\n",
       "<style scoped>\n",
       "    .dataframe tbody tr th:only-of-type {\n",
       "        vertical-align: middle;\n",
       "    }\n",
       "\n",
       "    .dataframe tbody tr th {\n",
       "        vertical-align: top;\n",
       "    }\n",
       "\n",
       "    .dataframe thead th {\n",
       "        text-align: right;\n",
       "    }\n",
       "</style>\n",
       "<table border=\"1\" class=\"dataframe\">\n",
       "  <thead>\n",
       "    <tr style=\"text-align: right;\">\n",
       "      <th></th>\n",
       "      <th>field_id</th>\n",
       "      <th>skill_list</th>\n",
       "    </tr>\n",
       "  </thead>\n",
       "  <tbody>\n",
       "    <tr>\n",
       "      <th>0</th>\n",
       "      <td>1</td>\n",
       "      <td>NaN</td>\n",
       "    </tr>\n",
       "    <tr>\n",
       "      <th>1</th>\n",
       "      <td>2</td>\n",
       "      <td>[data cleaning, data preprocessing, data analy...</td>\n",
       "    </tr>\n",
       "    <tr>\n",
       "      <th>2</th>\n",
       "      <td>3</td>\n",
       "      <td>[design principles, consistency in design, use...</td>\n",
       "    </tr>\n",
       "    <tr>\n",
       "      <th>3</th>\n",
       "      <td>4</td>\n",
       "      <td>[product roadmap, product planning, product st...</td>\n",
       "    </tr>\n",
       "    <tr>\n",
       "      <th>4</th>\n",
       "      <td>5</td>\n",
       "      <td>[regression testing, software testing, testing...</td>\n",
       "    </tr>\n",
       "    <tr>\n",
       "      <th>5</th>\n",
       "      <td>6</td>\n",
       "      <td>[identity verification, authentication, access...</td>\n",
       "    </tr>\n",
       "  </tbody>\n",
       "</table>\n",
       "</div>"
      ],
      "text/plain": [
       "   field_id                                         skill_list\n",
       "0         1                                                NaN\n",
       "1         2  [data cleaning, data preprocessing, data analy...\n",
       "2         3  [design principles, consistency in design, use...\n",
       "3         4  [product roadmap, product planning, product st...\n",
       "4         5  [regression testing, software testing, testing...\n",
       "5         6  [identity verification, authentication, access..."
      ]
     },
     "execution_count": 25,
     "metadata": {},
     "output_type": "execute_result"
    }
   ],
   "source": [
    "field_skills"
   ]
  },
  {
   "cell_type": "code",
   "execution_count": 27,
   "metadata": {},
   "outputs": [
    {
     "name": "stderr",
     "output_type": "stream",
     "text": [
      "C:\\Users\\aky\\AppData\\Local\\Temp\\ipykernel_4692\\3148094681.py:2: SettingWithCopyWarning: \n",
      "A value is trying to be set on a copy of a slice from a DataFrame\n",
      "\n",
      "See the caveats in the documentation: https://pandas.pydata.org/pandas-docs/stable/user_guide/indexing.html#returning-a-view-versus-a-copy\n",
      "  field_skills['skill_list'][0] = field_1_skills\n"
     ]
    },
    {
     "data": {
      "text/html": [
       "<div>\n",
       "<style scoped>\n",
       "    .dataframe tbody tr th:only-of-type {\n",
       "        vertical-align: middle;\n",
       "    }\n",
       "\n",
       "    .dataframe tbody tr th {\n",
       "        vertical-align: top;\n",
       "    }\n",
       "\n",
       "    .dataframe thead th {\n",
       "        text-align: right;\n",
       "    }\n",
       "</style>\n",
       "<table border=\"1\" class=\"dataframe\">\n",
       "  <thead>\n",
       "    <tr style=\"text-align: right;\">\n",
       "      <th></th>\n",
       "      <th>field_id</th>\n",
       "      <th>skill_list</th>\n",
       "    </tr>\n",
       "  </thead>\n",
       "  <tbody>\n",
       "    <tr>\n",
       "      <th>0</th>\n",
       "      <td>1</td>\n",
       "      <td>[version control, source code management, coll...</td>\n",
       "    </tr>\n",
       "    <tr>\n",
       "      <th>1</th>\n",
       "      <td>2</td>\n",
       "      <td>[data cleaning, data preprocessing, data analy...</td>\n",
       "    </tr>\n",
       "    <tr>\n",
       "      <th>2</th>\n",
       "      <td>3</td>\n",
       "      <td>[design principles, consistency in design, use...</td>\n",
       "    </tr>\n",
       "    <tr>\n",
       "      <th>3</th>\n",
       "      <td>4</td>\n",
       "      <td>[product roadmap, product planning, product st...</td>\n",
       "    </tr>\n",
       "    <tr>\n",
       "      <th>4</th>\n",
       "      <td>5</td>\n",
       "      <td>[regression testing, software testing, testing...</td>\n",
       "    </tr>\n",
       "    <tr>\n",
       "      <th>5</th>\n",
       "      <td>6</td>\n",
       "      <td>[identity verification, authentication, access...</td>\n",
       "    </tr>\n",
       "  </tbody>\n",
       "</table>\n",
       "</div>"
      ],
      "text/plain": [
       "   field_id                                         skill_list\n",
       "0         1  [version control, source code management, coll...\n",
       "1         2  [data cleaning, data preprocessing, data analy...\n",
       "2         3  [design principles, consistency in design, use...\n",
       "3         4  [product roadmap, product planning, product st...\n",
       "4         5  [regression testing, software testing, testing...\n",
       "5         6  [identity verification, authentication, access..."
      ]
     },
     "execution_count": 27,
     "metadata": {},
     "output_type": "execute_result"
    }
   ],
   "source": [
    "# assign field_1_skills to field_skills\n",
    "field_skills['skill_list'][0] = field_1_skills\n",
    "field_skills"
   ]
  },
  {
   "cell_type": "code",
   "execution_count": 28,
   "metadata": {},
   "outputs": [
    {
     "data": {
      "text/html": [
       "<div>\n",
       "<style scoped>\n",
       "    .dataframe tbody tr th:only-of-type {\n",
       "        vertical-align: middle;\n",
       "    }\n",
       "\n",
       "    .dataframe tbody tr th {\n",
       "        vertical-align: top;\n",
       "    }\n",
       "\n",
       "    .dataframe thead th {\n",
       "        text-align: right;\n",
       "    }\n",
       "</style>\n",
       "<table border=\"1\" class=\"dataframe\">\n",
       "  <thead>\n",
       "    <tr style=\"text-align: right;\">\n",
       "      <th></th>\n",
       "      <th>field_id</th>\n",
       "      <th>skill_list</th>\n",
       "    </tr>\n",
       "  </thead>\n",
       "  <tbody>\n",
       "    <tr>\n",
       "      <th>0</th>\n",
       "      <td>1</td>\n",
       "      <td>[version control, source code management, coll...</td>\n",
       "    </tr>\n",
       "    <tr>\n",
       "      <th>1</th>\n",
       "      <td>2</td>\n",
       "      <td>[data cleaning, data preprocessing, data analy...</td>\n",
       "    </tr>\n",
       "    <tr>\n",
       "      <th>2</th>\n",
       "      <td>3</td>\n",
       "      <td>[design principles, consistency in design, use...</td>\n",
       "    </tr>\n",
       "    <tr>\n",
       "      <th>3</th>\n",
       "      <td>4</td>\n",
       "      <td>[product roadmap, product planning, product st...</td>\n",
       "    </tr>\n",
       "    <tr>\n",
       "      <th>4</th>\n",
       "      <td>5</td>\n",
       "      <td>[regression testing, software testing, testing...</td>\n",
       "    </tr>\n",
       "    <tr>\n",
       "      <th>5</th>\n",
       "      <td>6</td>\n",
       "      <td>[identity verification, authentication, access...</td>\n",
       "    </tr>\n",
       "  </tbody>\n",
       "</table>\n",
       "</div>"
      ],
      "text/plain": [
       "   field_id                                         skill_list\n",
       "0         1  [version control, source code management, coll...\n",
       "1         2  [data cleaning, data preprocessing, data analy...\n",
       "2         3  [design principles, consistency in design, use...\n",
       "3         4  [product roadmap, product planning, product st...\n",
       "4         5  [regression testing, software testing, testing...\n",
       "5         6  [identity verification, authentication, access..."
      ]
     },
     "execution_count": 28,
     "metadata": {},
     "output_type": "execute_result"
    }
   ],
   "source": [
    "field_skills_copy = field_skills.copy()\n",
    "field_skills_copy"
   ]
  },
  {
   "cell_type": "code",
   "execution_count": 29,
   "metadata": {},
   "outputs": [],
   "source": [
    "# save to csv\n",
    "field_skills_copy.to_csv('../../static/csv/field_skills_10.csv', index=False)"
   ]
  },
  {
   "cell_type": "code",
   "execution_count": 30,
   "metadata": {},
   "outputs": [
    {
     "data": {
      "text/html": [
       "<div>\n",
       "<style scoped>\n",
       "    .dataframe tbody tr th:only-of-type {\n",
       "        vertical-align: middle;\n",
       "    }\n",
       "\n",
       "    .dataframe tbody tr th {\n",
       "        vertical-align: top;\n",
       "    }\n",
       "\n",
       "    .dataframe thead th {\n",
       "        text-align: right;\n",
       "    }\n",
       "</style>\n",
       "<table border=\"1\" class=\"dataframe\">\n",
       "  <thead>\n",
       "    <tr style=\"text-align: right;\">\n",
       "      <th></th>\n",
       "      <th>field_id</th>\n",
       "      <th>skill_list</th>\n",
       "    </tr>\n",
       "  </thead>\n",
       "  <tbody>\n",
       "    <tr>\n",
       "      <th>0</th>\n",
       "      <td>1</td>\n",
       "      <td>['version control', 'source code management', ...</td>\n",
       "    </tr>\n",
       "    <tr>\n",
       "      <th>1</th>\n",
       "      <td>2</td>\n",
       "      <td>['data cleaning', 'data preprocessing', 'data ...</td>\n",
       "    </tr>\n",
       "    <tr>\n",
       "      <th>2</th>\n",
       "      <td>3</td>\n",
       "      <td>['design principles', 'consistency in design',...</td>\n",
       "    </tr>\n",
       "    <tr>\n",
       "      <th>3</th>\n",
       "      <td>4</td>\n",
       "      <td>['product roadmap', 'product planning', 'produ...</td>\n",
       "    </tr>\n",
       "    <tr>\n",
       "      <th>4</th>\n",
       "      <td>5</td>\n",
       "      <td>['regression testing', 'software testing', 'te...</td>\n",
       "    </tr>\n",
       "    <tr>\n",
       "      <th>5</th>\n",
       "      <td>6</td>\n",
       "      <td>['identity verification', 'authentication', 'a...</td>\n",
       "    </tr>\n",
       "  </tbody>\n",
       "</table>\n",
       "</div>"
      ],
      "text/plain": [
       "   field_id                                         skill_list\n",
       "0         1  ['version control', 'source code management', ...\n",
       "1         2  ['data cleaning', 'data preprocessing', 'data ...\n",
       "2         3  ['design principles', 'consistency in design',...\n",
       "3         4  ['product roadmap', 'product planning', 'produ...\n",
       "4         5  ['regression testing', 'software testing', 'te...\n",
       "5         6  ['identity verification', 'authentication', 'a..."
      ]
     },
     "execution_count": 30,
     "metadata": {},
     "output_type": "execute_result"
    }
   ],
   "source": [
    "# load csv\n",
    "field_skills_10 = pd.read_csv('../../static/csv/field_skills_10.csv')\n",
    "field_skills_10"
   ]
  },
  {
   "cell_type": "code",
   "execution_count": null,
   "metadata": {},
   "outputs": [],
   "source": []
  }
 ],
 "metadata": {
  "kernelspec": {
   "display_name": "datasci",
   "language": "python",
   "name": "python3"
  },
  "language_info": {
   "codemirror_mode": {
    "name": "ipython",
    "version": 3
   },
   "file_extension": ".py",
   "mimetype": "text/x-python",
   "name": "python",
   "nbconvert_exporter": "python",
   "pygments_lexer": "ipython3",
   "version": "3.8.5"
  }
 },
 "nbformat": 4,
 "nbformat_minor": 2
}
