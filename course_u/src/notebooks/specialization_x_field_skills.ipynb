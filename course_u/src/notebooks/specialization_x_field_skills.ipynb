{
 "cells": [
  {
   "cell_type": "code",
   "execution_count": 1,
   "metadata": {},
   "outputs": [],
   "source": [
    "import pandas as pd\n",
    "import numpy as np"
   ]
  },
  {
   "cell_type": "code",
   "execution_count": 344,
   "metadata": {},
   "outputs": [
    {
     "data": {
      "text/html": [
       "<div>\n",
       "<style scoped>\n",
       "    .dataframe tbody tr th:only-of-type {\n",
       "        vertical-align: middle;\n",
       "    }\n",
       "\n",
       "    .dataframe tbody tr th {\n",
       "        vertical-align: top;\n",
       "    }\n",
       "\n",
       "    .dataframe thead th {\n",
       "        text-align: right;\n",
       "    }\n",
       "</style>\n",
       "<table border=\"1\" class=\"dataframe\">\n",
       "  <thead>\n",
       "    <tr style=\"text-align: right;\">\n",
       "      <th></th>\n",
       "      <th>specialization_id</th>\n",
       "      <th>field_id</th>\n",
       "      <th>title</th>\n",
       "      <th>description</th>\n",
       "      <th>roadmap_id</th>\n",
       "      <th>skill_list</th>\n",
       "    </tr>\n",
       "  </thead>\n",
       "  <tbody>\n",
       "    <tr>\n",
       "      <th>36</th>\n",
       "      <td>37</td>\n",
       "      <td>10</td>\n",
       "      <td>blockchain developer</td>\n",
       "      <td>Technology Strategists develop long-term plans...</td>\n",
       "      <td>37</td>\n",
       "      <td>[Blockchain Development, Smart Contracts, Cryp...</td>\n",
       "    </tr>\n",
       "    <tr>\n",
       "      <th>37</th>\n",
       "      <td>38</td>\n",
       "      <td>10</td>\n",
       "      <td>quantum computing scientist</td>\n",
       "      <td>Quantum Computing Scientists research and deve...</td>\n",
       "      <td>38</td>\n",
       "      <td>[Quantum Computing, Quantum Algorithms, Quantu...</td>\n",
       "    </tr>\n",
       "    <tr>\n",
       "      <th>38</th>\n",
       "      <td>39</td>\n",
       "      <td>10</td>\n",
       "      <td>virtual reality (vr) developer</td>\n",
       "      <td>VR Developers create immersive virtual reality...</td>\n",
       "      <td>39</td>\n",
       "      <td>[Virtual Reality Development, 3D Modeling, VR ...</td>\n",
       "    </tr>\n",
       "    <tr>\n",
       "      <th>39</th>\n",
       "      <td>40</td>\n",
       "      <td>10</td>\n",
       "      <td>augmented reality (ar) developer</td>\n",
       "      <td>AR Developers build applications that overlay ...</td>\n",
       "      <td>40</td>\n",
       "      <td>[Augmented Reality Development, AR Frameworks,...</td>\n",
       "    </tr>\n",
       "    <tr>\n",
       "      <th>40</th>\n",
       "      <td>41</td>\n",
       "      <td>10</td>\n",
       "      <td>edge computing engineer</td>\n",
       "      <td>Edge Computing Engineers design and implement ...</td>\n",
       "      <td>41</td>\n",
       "      <td>[Edge Computing, IoT (Internet of Things), Dis...</td>\n",
       "    </tr>\n",
       "  </tbody>\n",
       "</table>\n",
       "</div>"
      ],
      "text/plain": [
       "    specialization_id  field_id                             title  \\\n",
       "36                 37        10              blockchain developer   \n",
       "37                 38        10       quantum computing scientist   \n",
       "38                 39        10    virtual reality (vr) developer   \n",
       "39                 40        10  augmented reality (ar) developer   \n",
       "40                 41        10           edge computing engineer   \n",
       "\n",
       "                                          description  roadmap_id  \\\n",
       "36  Technology Strategists develop long-term plans...          37   \n",
       "37  Quantum Computing Scientists research and deve...          38   \n",
       "38  VR Developers create immersive virtual reality...          39   \n",
       "39  AR Developers build applications that overlay ...          40   \n",
       "40  Edge Computing Engineers design and implement ...          41   \n",
       "\n",
       "                                           skill_list  \n",
       "36  [Blockchain Development, Smart Contracts, Cryp...  \n",
       "37  [Quantum Computing, Quantum Algorithms, Quantu...  \n",
       "38  [Virtual Reality Development, 3D Modeling, VR ...  \n",
       "39  [Augmented Reality Development, AR Frameworks,...  \n",
       "40  [Edge Computing, IoT (Internet of Things), Dis...  "
      ]
     },
     "execution_count": 344,
     "metadata": {},
     "output_type": "execute_result"
    }
   ],
   "source": [
    "specialization = pd.read_csv('../../static/csv/specialization2.csv')\n",
    "specialization.tail()"
   ]
  },
  {
   "cell_type": "code",
   "execution_count": 345,
   "metadata": {},
   "outputs": [
    {
     "name": "stdout",
     "output_type": "stream",
     "text": [
      "<class 'pandas.core.frame.DataFrame'>\n",
      "RangeIndex: 41 entries, 0 to 40\n",
      "Data columns (total 6 columns):\n",
      " #   Column             Non-Null Count  Dtype \n",
      "---  ------             --------------  ----- \n",
      " 0   specialization_id  41 non-null     int64 \n",
      " 1   field_id           41 non-null     int64 \n",
      " 2   title              41 non-null     object\n",
      " 3   description        41 non-null     object\n",
      " 4   roadmap_id         41 non-null     int64 \n",
      " 5   skill_list         41 non-null     object\n",
      "dtypes: int64(3), object(3)\n",
      "memory usage: 2.0+ KB\n"
     ]
    }
   ],
   "source": [
    "specialization.info()"
   ]
  },
  {
   "cell_type": "code",
   "execution_count": 286,
   "metadata": {},
   "outputs": [
    {
     "name": "stdout",
     "output_type": "stream",
     "text": [
      "<class 'str'>\n",
      "[HTML, CSS, JavaScript, Web Design, Responsive Design, React, Angular, Vue.js, Cross-Browser Compatibility]\n"
     ]
    }
   ],
   "source": [
    "# check if skill_list is a list\n",
    "skill_list_0 = specialization['skill_list'][0]\n",
    "print(type(skill_list_0))\n",
    "print(skill_list_0)"
   ]
  },
  {
   "cell_type": "code",
   "execution_count": 346,
   "metadata": {},
   "outputs": [],
   "source": [
    "def convert_to_list(s):\n",
    "    # Assuming your string is like \"[HTML, CSS, JavaScript]\"\n",
    "    return [skill.strip() for skill in s[1:-1].split(',')]\n",
    "\n",
    "# Apply the custom function to the 'skill_list' column\n",
    "specialization['skill_list'] = specialization['skill_list'].apply(convert_to_list)\n"
   ]
  },
  {
   "cell_type": "code",
   "execution_count": 347,
   "metadata": {},
   "outputs": [],
   "source": [
    "specialization['skill_list'] = specialization['skill_list'].apply(lambda skills: [skill.lower() for skill in skills])"
   ]
  },
  {
   "cell_type": "code",
   "execution_count": 348,
   "metadata": {},
   "outputs": [
    {
     "data": {
      "text/html": [
       "<div>\n",
       "<style scoped>\n",
       "    .dataframe tbody tr th:only-of-type {\n",
       "        vertical-align: middle;\n",
       "    }\n",
       "\n",
       "    .dataframe tbody tr th {\n",
       "        vertical-align: top;\n",
       "    }\n",
       "\n",
       "    .dataframe thead th {\n",
       "        text-align: right;\n",
       "    }\n",
       "</style>\n",
       "<table border=\"1\" class=\"dataframe\">\n",
       "  <thead>\n",
       "    <tr style=\"text-align: right;\">\n",
       "      <th></th>\n",
       "      <th>specialization_id</th>\n",
       "      <th>field_id</th>\n",
       "      <th>title</th>\n",
       "      <th>description</th>\n",
       "      <th>roadmap_id</th>\n",
       "      <th>skill_list</th>\n",
       "    </tr>\n",
       "  </thead>\n",
       "  <tbody>\n",
       "    <tr>\n",
       "      <th>32</th>\n",
       "      <td>33</td>\n",
       "      <td>8</td>\n",
       "      <td>scrum master</td>\n",
       "      <td>Scrum Masters guide Agile teams through the Sc...</td>\n",
       "      <td>33</td>\n",
       "      <td>[scrum methodology, agile principles, team fac...</td>\n",
       "    </tr>\n",
       "    <tr>\n",
       "      <th>37</th>\n",
       "      <td>38</td>\n",
       "      <td>10</td>\n",
       "      <td>quantum computing scientist</td>\n",
       "      <td>Quantum Computing Scientists research and deve...</td>\n",
       "      <td>38</td>\n",
       "      <td>[quantum computing, quantum algorithms, quantu...</td>\n",
       "    </tr>\n",
       "    <tr>\n",
       "      <th>7</th>\n",
       "      <td>8</td>\n",
       "      <td>1</td>\n",
       "      <td>Game Developer</td>\n",
       "      <td>Game Developers create interactive, immersive ...</td>\n",
       "      <td>8</td>\n",
       "      <td>[game development engines, unity, unreal engin...</td>\n",
       "    </tr>\n",
       "  </tbody>\n",
       "</table>\n",
       "</div>"
      ],
      "text/plain": [
       "    specialization_id  field_id                        title  \\\n",
       "32                 33         8                 scrum master   \n",
       "37                 38        10  quantum computing scientist   \n",
       "7                   8         1               Game Developer   \n",
       "\n",
       "                                          description  roadmap_id  \\\n",
       "32  Scrum Masters guide Agile teams through the Sc...          33   \n",
       "37  Quantum Computing Scientists research and deve...          38   \n",
       "7   Game Developers create interactive, immersive ...           8   \n",
       "\n",
       "                                           skill_list  \n",
       "32  [scrum methodology, agile principles, team fac...  \n",
       "37  [quantum computing, quantum algorithms, quantu...  \n",
       "7   [game development engines, unity, unreal engin...  "
      ]
     },
     "execution_count": 348,
     "metadata": {},
     "output_type": "execute_result"
    }
   ],
   "source": [
    "specialization.sample(3)"
   ]
  },
  {
   "cell_type": "code",
   "execution_count": 349,
   "metadata": {},
   "outputs": [
    {
     "name": "stdout",
     "output_type": "stream",
     "text": [
      "<class 'list'>\n",
      "['html', 'css', 'javascript', 'web design', 'responsive design', 'react', 'angular', 'vue.js', 'cross-browser compatibility']\n"
     ]
    }
   ],
   "source": [
    "skill_list_0 = specialization['skill_list'][0]\n",
    "print(type(skill_list_0))\n",
    "print(skill_list_0)"
   ]
  },
  {
   "cell_type": "code",
   "execution_count": 22,
   "metadata": {},
   "outputs": [
    {
     "data": {
      "text/html": [
       "<div>\n",
       "<style scoped>\n",
       "    .dataframe tbody tr th:only-of-type {\n",
       "        vertical-align: middle;\n",
       "    }\n",
       "\n",
       "    .dataframe tbody tr th {\n",
       "        vertical-align: top;\n",
       "    }\n",
       "\n",
       "    .dataframe thead th {\n",
       "        text-align: right;\n",
       "    }\n",
       "</style>\n",
       "<table border=\"1\" class=\"dataframe\">\n",
       "  <thead>\n",
       "    <tr style=\"text-align: right;\">\n",
       "      <th></th>\n",
       "      <th>specialization_id</th>\n",
       "      <th>field_id</th>\n",
       "      <th>title</th>\n",
       "      <th>description</th>\n",
       "      <th>roadmap_id</th>\n",
       "      <th>skill_list</th>\n",
       "    </tr>\n",
       "  </thead>\n",
       "  <tbody>\n",
       "    <tr>\n",
       "      <th>0</th>\n",
       "      <td>1</td>\n",
       "      <td>1</td>\n",
       "      <td>Front-End</td>\n",
       "      <td>Front-End Developers are responsible for creat...</td>\n",
       "      <td>1</td>\n",
       "      <td>html</td>\n",
       "    </tr>\n",
       "    <tr>\n",
       "      <th>0</th>\n",
       "      <td>1</td>\n",
       "      <td>1</td>\n",
       "      <td>Front-End</td>\n",
       "      <td>Front-End Developers are responsible for creat...</td>\n",
       "      <td>1</td>\n",
       "      <td>css</td>\n",
       "    </tr>\n",
       "    <tr>\n",
       "      <th>0</th>\n",
       "      <td>1</td>\n",
       "      <td>1</td>\n",
       "      <td>Front-End</td>\n",
       "      <td>Front-End Developers are responsible for creat...</td>\n",
       "      <td>1</td>\n",
       "      <td>javascript</td>\n",
       "    </tr>\n",
       "    <tr>\n",
       "      <th>0</th>\n",
       "      <td>1</td>\n",
       "      <td>1</td>\n",
       "      <td>Front-End</td>\n",
       "      <td>Front-End Developers are responsible for creat...</td>\n",
       "      <td>1</td>\n",
       "      <td>web design</td>\n",
       "    </tr>\n",
       "    <tr>\n",
       "      <th>0</th>\n",
       "      <td>1</td>\n",
       "      <td>1</td>\n",
       "      <td>Front-End</td>\n",
       "      <td>Front-End Developers are responsible for creat...</td>\n",
       "      <td>1</td>\n",
       "      <td>responsive design</td>\n",
       "    </tr>\n",
       "    <tr>\n",
       "      <th>...</th>\n",
       "      <td>...</td>\n",
       "      <td>...</td>\n",
       "      <td>...</td>\n",
       "      <td>...</td>\n",
       "      <td>...</td>\n",
       "      <td>...</td>\n",
       "    </tr>\n",
       "    <tr>\n",
       "      <th>39</th>\n",
       "      <td>40</td>\n",
       "      <td>10</td>\n",
       "      <td>augmented reality (ar) developer</td>\n",
       "      <td>AR Developers build applications that overlay ...</td>\n",
       "      <td>40</td>\n",
       "      <td>markerless tracking</td>\n",
       "    </tr>\n",
       "    <tr>\n",
       "      <th>40</th>\n",
       "      <td>41</td>\n",
       "      <td>10</td>\n",
       "      <td>edge computing engineer</td>\n",
       "      <td>Edge Computing Engineers design and implement ...</td>\n",
       "      <td>41</td>\n",
       "      <td>edge computing</td>\n",
       "    </tr>\n",
       "    <tr>\n",
       "      <th>40</th>\n",
       "      <td>41</td>\n",
       "      <td>10</td>\n",
       "      <td>edge computing engineer</td>\n",
       "      <td>Edge Computing Engineers design and implement ...</td>\n",
       "      <td>41</td>\n",
       "      <td>iot (internet of things)</td>\n",
       "    </tr>\n",
       "    <tr>\n",
       "      <th>40</th>\n",
       "      <td>41</td>\n",
       "      <td>10</td>\n",
       "      <td>edge computing engineer</td>\n",
       "      <td>Edge Computing Engineers design and implement ...</td>\n",
       "      <td>41</td>\n",
       "      <td>distributed computing</td>\n",
       "    </tr>\n",
       "    <tr>\n",
       "      <th>40</th>\n",
       "      <td>41</td>\n",
       "      <td>10</td>\n",
       "      <td>edge computing engineer</td>\n",
       "      <td>Edge Computing Engineers design and implement ...</td>\n",
       "      <td>41</td>\n",
       "      <td>low latency</td>\n",
       "    </tr>\n",
       "  </tbody>\n",
       "</table>\n",
       "<p>225 rows × 6 columns</p>\n",
       "</div>"
      ],
      "text/plain": [
       "    specialization_id  field_id                             title  \\\n",
       "0                   1         1                         Front-End   \n",
       "0                   1         1                         Front-End   \n",
       "0                   1         1                         Front-End   \n",
       "0                   1         1                         Front-End   \n",
       "0                   1         1                         Front-End   \n",
       "..                ...       ...                               ...   \n",
       "39                 40        10  augmented reality (ar) developer   \n",
       "40                 41        10           edge computing engineer   \n",
       "40                 41        10           edge computing engineer   \n",
       "40                 41        10           edge computing engineer   \n",
       "40                 41        10           edge computing engineer   \n",
       "\n",
       "                                          description  roadmap_id  \\\n",
       "0   Front-End Developers are responsible for creat...           1   \n",
       "0   Front-End Developers are responsible for creat...           1   \n",
       "0   Front-End Developers are responsible for creat...           1   \n",
       "0   Front-End Developers are responsible for creat...           1   \n",
       "0   Front-End Developers are responsible for creat...           1   \n",
       "..                                                ...         ...   \n",
       "39  AR Developers build applications that overlay ...          40   \n",
       "40  Edge Computing Engineers design and implement ...          41   \n",
       "40  Edge Computing Engineers design and implement ...          41   \n",
       "40  Edge Computing Engineers design and implement ...          41   \n",
       "40  Edge Computing Engineers design and implement ...          41   \n",
       "\n",
       "                  skill_list  \n",
       "0                       html  \n",
       "0                        css  \n",
       "0                 javascript  \n",
       "0                 web design  \n",
       "0          responsive design  \n",
       "..                       ...  \n",
       "39       markerless tracking  \n",
       "40            edge computing  \n",
       "40  iot (internet of things)  \n",
       "40     distributed computing  \n",
       "40               low latency  \n",
       "\n",
       "[225 rows x 6 columns]"
      ]
     },
     "execution_count": 22,
     "metadata": {},
     "output_type": "execute_result"
    }
   ],
   "source": [
    "# Explode the lists into separate rows\n",
    "specialization_exploded = specialization.explode('skill_list')\n",
    "specialization_exploded"
   ]
  },
  {
   "cell_type": "code",
   "execution_count": 23,
   "metadata": {},
   "outputs": [
    {
     "data": {
      "text/html": [
       "<div>\n",
       "<style scoped>\n",
       "    .dataframe tbody tr th:only-of-type {\n",
       "        vertical-align: middle;\n",
       "    }\n",
       "\n",
       "    .dataframe tbody tr th {\n",
       "        vertical-align: top;\n",
       "    }\n",
       "\n",
       "    .dataframe thead th {\n",
       "        text-align: right;\n",
       "    }\n",
       "</style>\n",
       "<table border=\"1\" class=\"dataframe\">\n",
       "  <thead>\n",
       "    <tr style=\"text-align: right;\">\n",
       "      <th></th>\n",
       "      <th>field_id</th>\n",
       "      <th>skill_list</th>\n",
       "    </tr>\n",
       "  </thead>\n",
       "  <tbody>\n",
       "    <tr>\n",
       "      <th>0</th>\n",
       "      <td>1</td>\n",
       "      <td>[html, css, javascript, web design, responsive...</td>\n",
       "    </tr>\n",
       "    <tr>\n",
       "      <th>1</th>\n",
       "      <td>2</td>\n",
       "      <td>[data analysis, machine learning, statistics, ...</td>\n",
       "    </tr>\n",
       "    <tr>\n",
       "      <th>2</th>\n",
       "      <td>3</td>\n",
       "      <td>[user interface design, wireframing, prototypi...</td>\n",
       "    </tr>\n",
       "    <tr>\n",
       "      <th>3</th>\n",
       "      <td>4</td>\n",
       "      <td>[product management, roadmap planning, agile m...</td>\n",
       "    </tr>\n",
       "    <tr>\n",
       "      <th>4</th>\n",
       "      <td>5</td>\n",
       "      <td>[software testing, test automation, quality as...</td>\n",
       "    </tr>\n",
       "    <tr>\n",
       "      <th>5</th>\n",
       "      <td>6</td>\n",
       "      <td>[cybersecurity principles, security tools, fir...</td>\n",
       "    </tr>\n",
       "    <tr>\n",
       "      <th>6</th>\n",
       "      <td>7</td>\n",
       "      <td>[network design, routing and switching, networ...</td>\n",
       "    </tr>\n",
       "    <tr>\n",
       "      <th>7</th>\n",
       "      <td>8</td>\n",
       "      <td>[it project management, project planning, reso...</td>\n",
       "    </tr>\n",
       "    <tr>\n",
       "      <th>8</th>\n",
       "      <td>9</td>\n",
       "      <td>[business analysis, requirements gathering, pr...</td>\n",
       "    </tr>\n",
       "    <tr>\n",
       "      <th>9</th>\n",
       "      <td>10</td>\n",
       "      <td>[blockchain development, smart contracts, cryp...</td>\n",
       "    </tr>\n",
       "  </tbody>\n",
       "</table>\n",
       "</div>"
      ],
      "text/plain": [
       "   field_id                                         skill_list\n",
       "0         1  [html, css, javascript, web design, responsive...\n",
       "1         2  [data analysis, machine learning, statistics, ...\n",
       "2         3  [user interface design, wireframing, prototypi...\n",
       "3         4  [product management, roadmap planning, agile m...\n",
       "4         5  [software testing, test automation, quality as...\n",
       "5         6  [cybersecurity principles, security tools, fir...\n",
       "6         7  [network design, routing and switching, networ...\n",
       "7         8  [it project management, project planning, reso...\n",
       "8         9  [business analysis, requirements gathering, pr...\n",
       "9        10  [blockchain development, smart contracts, cryp..."
      ]
     },
     "execution_count": 23,
     "metadata": {},
     "output_type": "execute_result"
    }
   ],
   "source": [
    "# Group by 'field_id' and aggregate unique skills into a list\n",
    "specialization_grouped = specialization_exploded.groupby('field_id')['skill_list'].unique().reset_index()\n",
    "specialization_grouped"
   ]
  },
  {
   "cell_type": "code",
   "execution_count": 27,
   "metadata": {},
   "outputs": [
    {
     "name": "stdout",
     "output_type": "stream",
     "text": [
      "['html', 'css', 'javascript', 'web design', 'responsive design', 'react', 'angular', 'vue.js', 'cross-browser compatibility', 'node.js', 'python', 'ruby', 'java', 'database management', 'api development', 'server security', 'express', 'flask', 'django', 'front-end', 'back-end', 'full stack frameworks', 'web application development', 'software development', 'algorithm design', 'software architecture', 'object-oriented programming (oop)', 'version control', 'debugging', 'c++', 'software design', 'code optimization', 'software testing', 'mobile app development', 'ios and android platforms', 'mobile ui/ux design', 'app store guidelines', 'mobile frameworks', 'flutter', 'react native', 'devops practices', 'continuous integration/continuous deployment (ci/cd)', 'cloud services', 'aws', 'azure', 'automation', 'scripting', 'containerization', 'docker', 'game development engines', 'unity', 'unreal engine', '3d modeling', 'physics', 'animation', 'ai', 'embedded systems programming', 'microcontrollers', 'firmware development', 'iot (internet of things)', 'real-time operating systems', 'data analysis', 'machine learning', 'statistics', 'data visualization', 'big data technologies', 'hadoop', 'spark', 'sql', 'excel', 'statistical analysis', 'reporting', 'business intelligence tools', 'tableau', 'power bi', 'data warehousing', 'etl (extract', 'transform', 'load) processes', 'machine learning algorithms', 'deep learning', 'neural networks', 'data preprocessing', 'model deployment', 'artificial intelligence', 'natural language processing', 'computer vision', 'ai frameworks', 'tensorflow', 'pytorch', 'data pipeline development', 'data integration', 'database management', 'etl processes', 'user interface design', 'wireframing', 'prototyping', 'visual design', 'usability', 'design tools', 'adobe xd', 'sketch', 'user experience design', 'user research', 'information architecture', 'interaction design', 'usability testing', 'interaction design principles', 'user-centered design', 'interface prototyping', 'user testing', 'graphic design', 'typography', 'color theory', 'layout design', 'branding', 'product management', 'roadmap planning', 'agile methodologies', 'stakeholder communication', 'technical understanding', 'product development', 'cross-functional team leadership', 'market analysis', 'software testing', 'test automation', 'quality assurance', 'bug tracking', 'test planning', 'test automation frameworks (e.g.', 'selenium', 'appium)', 'scripting', 'continuous testing', 'cybersecurity principles', 'security tools', 'firewalls', 'ids/ips', 'threat detection', 'security incident response', 'security engineering', 'network security', 'security protocols', 'encryption', 'vulnerability assessment', 'penetration testing', 'vulnerability scanning', 'exploitation techniques', 'metasploit', 'security consultancy', 'risk assessment', 'security auditing', 'compliance standards', 'gdpr', 'hipaa', 'network design', 'routing and switching', 'network protocols', 'cisco technologies', 'network troubleshooting', 'system administration', 'server management', 'operating systems', 'scripting', 'user access control', 'cloud computing', 'aws', 'azure', 'gcp', 'virtualization', 'containerization', 'cloud security', 'site reliability engineering', 'devops practices', 'monitoring and alerting', 'service level objectives (slos)', 'it project management', 'project planning', 'resource management', 'agile and waterfall methodologies', 'scrum methodology', 'agile principles', 'team facilitation', 'agile tools', 'jira', 'business analysis', 'requirements gathering', 'process improvement', 'data analysis', 'it consulting', 'client communication', 'it strategy', 'problem solving', 'technology strategy', 'innovation', 'emerging technologies', 'market analysis', 'blockchain development', 'smart contracts', 'cryptocurrency', 'decentralized applications (dapps)', 'quantum computing', 'quantum algorithms', 'quantum hardware', 'quantum programming languages', 'virtual reality development', '3d modeling', 'vr frameworks', 'unity', 'user interaction in vr', 'augmented reality development', 'ar frameworks', 'arkit', 'arcore', 'markerless tracking', 'edge computing', 'iot (internet of things)', 'distributed computing', 'low latency']\n"
     ]
    }
   ],
   "source": [
    "# Create a list of skills by combining all the skills from the 'skills_list' column\n",
    "all_skills = [skill for skill_list in specialization_grouped['skill_list'] for skill in skill_list]\n",
    "\n",
    "# Now, 'all_skills' contains all the skills from the DataFrame\n",
    "print(all_skills)"
   ]
  },
  {
   "cell_type": "code",
   "execution_count": 28,
   "metadata": {},
   "outputs": [],
   "source": [
    "# remove duplicates\n",
    "all_skills = list(set(all_skills))"
   ]
  },
  {
   "cell_type": "code",
   "execution_count": 38,
   "metadata": {},
   "outputs": [
    {
     "data": {
      "text/plain": [
       "206"
      ]
     },
     "execution_count": 38,
     "metadata": {},
     "output_type": "execute_result"
    }
   ],
   "source": [
    "# count\n",
    "specialization_skill_count = len(all_skills)\n",
    "specialization_skill_count"
   ]
  },
  {
   "cell_type": "code",
   "execution_count": 53,
   "metadata": {},
   "outputs": [
    {
     "data": {
      "text/html": [
       "<div>\n",
       "<style scoped>\n",
       "    .dataframe tbody tr th:only-of-type {\n",
       "        vertical-align: middle;\n",
       "    }\n",
       "\n",
       "    .dataframe tbody tr th {\n",
       "        vertical-align: top;\n",
       "    }\n",
       "\n",
       "    .dataframe thead th {\n",
       "        text-align: right;\n",
       "    }\n",
       "</style>\n",
       "<table border=\"1\" class=\"dataframe\">\n",
       "  <thead>\n",
       "    <tr style=\"text-align: right;\">\n",
       "      <th></th>\n",
       "      <th>skill_name</th>\n",
       "    </tr>\n",
       "  </thead>\n",
       "  <tbody>\n",
       "    <tr>\n",
       "      <th>3558</th>\n",
       "      <td>embedded software systems development</td>\n",
       "    </tr>\n",
       "    <tr>\n",
       "      <th>2817</th>\n",
       "      <td>db security</td>\n",
       "    </tr>\n",
       "    <tr>\n",
       "      <th>3342</th>\n",
       "      <td>requirement analysis</td>\n",
       "    </tr>\n",
       "    <tr>\n",
       "      <th>3753</th>\n",
       "      <td>vss</td>\n",
       "    </tr>\n",
       "    <tr>\n",
       "      <th>3857</th>\n",
       "      <td>interpersonal communication</td>\n",
       "    </tr>\n",
       "    <tr>\n",
       "      <th>3969</th>\n",
       "      <td>trouble shooting</td>\n",
       "    </tr>\n",
       "    <tr>\n",
       "      <th>4221</th>\n",
       "      <td>online advertising</td>\n",
       "    </tr>\n",
       "    <tr>\n",
       "      <th>661</th>\n",
       "      <td>cssd technician</td>\n",
       "    </tr>\n",
       "    <tr>\n",
       "      <th>125</th>\n",
       "      <td>continuous integration</td>\n",
       "    </tr>\n",
       "    <tr>\n",
       "      <th>1774</th>\n",
       "      <td>corrective action</td>\n",
       "    </tr>\n",
       "  </tbody>\n",
       "</table>\n",
       "</div>"
      ],
      "text/plain": [
       "                                 skill_name\n",
       "3558  embedded software systems development\n",
       "2817                            db security\n",
       "3342                   requirement analysis\n",
       "3753                                    vss\n",
       "3857            interpersonal communication\n",
       "3969                       trouble shooting\n",
       "4221                     online advertising\n",
       "661                         cssd technician\n",
       "125                  continuous integration\n",
       "1774                      corrective action"
      ]
     },
     "execution_count": 53,
     "metadata": {},
     "output_type": "execute_result"
    }
   ],
   "source": [
    "nakuri_skill = pd.read_csv('../../static/csv/nakuri_skill_list.csv')\n",
    "nakuri_skill.sample(10)"
   ]
  },
  {
   "cell_type": "code",
   "execution_count": 54,
   "metadata": {},
   "outputs": [],
   "source": [
    "nakuri_skill_list = nakuri_skill['skill_name'].tolist()"
   ]
  },
  {
   "cell_type": "code",
   "execution_count": 55,
   "metadata": {},
   "outputs": [
    {
     "data": {
      "text/plain": [
       "4452"
      ]
     },
     "execution_count": 55,
     "metadata": {},
     "output_type": "execute_result"
    }
   ],
   "source": [
    "nakuri_skill_count = len(nakuri_skill_list)\n",
    "nakuri_skill_count"
   ]
  },
  {
   "cell_type": "code",
   "execution_count": 56,
   "metadata": {},
   "outputs": [],
   "source": [
    "# get website_skill where it is not in nakuri_skill\n",
    "specialization_skill_not_in_nakuri = [skill for skill in all_skills if skill not in nakuri_skill_list]\n",
    "# get nakuri_skill where it is not in website_skill\n",
    "nakuri_skill_not_in_specialization = [skill for skill in nakuri_skill_list if skill not in all_skills]"
   ]
  },
  {
   "cell_type": "code",
   "execution_count": 57,
   "metadata": {},
   "outputs": [
    {
     "name": "stdout",
     "output_type": "stream",
     "text": [
      "103\n",
      "4349\n"
     ]
    }
   ],
   "source": [
    "# count\n",
    "print(len(specialization_skill_not_in_nakuri))\n",
    "print(len(nakuri_skill_not_in_specialization))"
   ]
  },
  {
   "cell_type": "code",
   "execution_count": 350,
   "metadata": {},
   "outputs": [
    {
     "data": {
      "text/html": [
       "<div>\n",
       "<style scoped>\n",
       "    .dataframe tbody tr th:only-of-type {\n",
       "        vertical-align: middle;\n",
       "    }\n",
       "\n",
       "    .dataframe tbody tr th {\n",
       "        vertical-align: top;\n",
       "    }\n",
       "\n",
       "    .dataframe thead th {\n",
       "        text-align: right;\n",
       "    }\n",
       "</style>\n",
       "<table border=\"1\" class=\"dataframe\">\n",
       "  <thead>\n",
       "    <tr style=\"text-align: right;\">\n",
       "      <th></th>\n",
       "      <th>specialization_id</th>\n",
       "      <th>field_id</th>\n",
       "      <th>title</th>\n",
       "      <th>description</th>\n",
       "      <th>roadmap_id</th>\n",
       "      <th>skill_list</th>\n",
       "    </tr>\n",
       "  </thead>\n",
       "  <tbody>\n",
       "    <tr>\n",
       "      <th>0</th>\n",
       "      <td>1</td>\n",
       "      <td>1</td>\n",
       "      <td>Front-End</td>\n",
       "      <td>Front-End Developers are responsible for creat...</td>\n",
       "      <td>1</td>\n",
       "      <td>[html, css, javascript, web design, responsive...</td>\n",
       "    </tr>\n",
       "    <tr>\n",
       "      <th>1</th>\n",
       "      <td>2</td>\n",
       "      <td>1</td>\n",
       "      <td>Back-End</td>\n",
       "      <td>Back-End Developers work on the server-side of...</td>\n",
       "      <td>2</td>\n",
       "      <td>[node.js, python, ruby, java, database managem...</td>\n",
       "    </tr>\n",
       "    <tr>\n",
       "      <th>2</th>\n",
       "      <td>3</td>\n",
       "      <td>1</td>\n",
       "      <td>Full Stack</td>\n",
       "      <td>Full Stack Developers have expertise in both F...</td>\n",
       "      <td>3</td>\n",
       "      <td>[front-end, back-end, full stack frameworks, w...</td>\n",
       "    </tr>\n",
       "    <tr>\n",
       "      <th>3</th>\n",
       "      <td>4</td>\n",
       "      <td>1</td>\n",
       "      <td>Software Engineer</td>\n",
       "      <td>Software Engineers design and develop software...</td>\n",
       "      <td>4</td>\n",
       "      <td>[software development, algorithm design, softw...</td>\n",
       "    </tr>\n",
       "    <tr>\n",
       "      <th>4</th>\n",
       "      <td>5</td>\n",
       "      <td>1</td>\n",
       "      <td>Software Developer</td>\n",
       "      <td>Software Developers write, test, and maintain ...</td>\n",
       "      <td>5</td>\n",
       "      <td>[java, python, c++, software design, code opti...</td>\n",
       "    </tr>\n",
       "  </tbody>\n",
       "</table>\n",
       "</div>"
      ],
      "text/plain": [
       "   specialization_id  field_id               title  \\\n",
       "0                  1         1           Front-End   \n",
       "1                  2         1            Back-End   \n",
       "2                  3         1          Full Stack   \n",
       "3                  4         1   Software Engineer   \n",
       "4                  5         1  Software Developer   \n",
       "\n",
       "                                         description  roadmap_id  \\\n",
       "0  Front-End Developers are responsible for creat...           1   \n",
       "1  Back-End Developers work on the server-side of...           2   \n",
       "2  Full Stack Developers have expertise in both F...           3   \n",
       "3  Software Engineers design and develop software...           4   \n",
       "4  Software Developers write, test, and maintain ...           5   \n",
       "\n",
       "                                          skill_list  \n",
       "0  [html, css, javascript, web design, responsive...  \n",
       "1  [node.js, python, ruby, java, database managem...  \n",
       "2  [front-end, back-end, full stack frameworks, w...  \n",
       "3  [software development, algorithm design, softw...  \n",
       "4  [java, python, c++, software design, code opti...  "
      ]
     },
     "execution_count": 350,
     "metadata": {},
     "output_type": "execute_result"
    }
   ],
   "source": [
    "specialization.head()"
   ]
  },
  {
   "cell_type": "code",
   "execution_count": 251,
   "metadata": {},
   "outputs": [
    {
     "data": {
      "text/html": [
       "<div>\n",
       "<style scoped>\n",
       "    .dataframe tbody tr th:only-of-type {\n",
       "        vertical-align: middle;\n",
       "    }\n",
       "\n",
       "    .dataframe tbody tr th {\n",
       "        vertical-align: top;\n",
       "    }\n",
       "\n",
       "    .dataframe thead th {\n",
       "        text-align: right;\n",
       "    }\n",
       "</style>\n",
       "<table border=\"1\" class=\"dataframe\">\n",
       "  <thead>\n",
       "    <tr style=\"text-align: right;\">\n",
       "      <th></th>\n",
       "      <th>role_job</th>\n",
       "      <th>Skills</th>\n",
       "      <th>field</th>\n",
       "    </tr>\n",
       "  </thead>\n",
       "  <tbody>\n",
       "    <tr>\n",
       "      <th>15</th>\n",
       "      <td>hadoop developer</td>\n",
       "      <td>hadoop,unix,hive,hbase,sqoop,big data,core jav...</td>\n",
       "      <td>Emerging and Specialized</td>\n",
       "    </tr>\n",
       "    <tr>\n",
       "      <th>25</th>\n",
       "      <td>php developer</td>\n",
       "      <td>css3,facebook,open source,customer service,cak...</td>\n",
       "      <td>Software Development</td>\n",
       "    </tr>\n",
       "    <tr>\n",
       "      <th>53</th>\n",
       "      <td>trainer/faculty</td>\n",
       "      <td>data science,statistics,deep learning,r,python...</td>\n",
       "      <td>Emerging and Specialized</td>\n",
       "    </tr>\n",
       "    <tr>\n",
       "      <th>5</th>\n",
       "      <td>data engineer</td>\n",
       "      <td>ms sql,stored procedures,ssrs,sql development,...</td>\n",
       "      <td>Data and Analytics</td>\n",
       "    </tr>\n",
       "    <tr>\n",
       "      <th>28</th>\n",
       "      <td>project lead</td>\n",
       "      <td>report writing,proposal writing,project planni...</td>\n",
       "      <td>Product Management</td>\n",
       "    </tr>\n",
       "  </tbody>\n",
       "</table>\n",
       "</div>"
      ],
      "text/plain": [
       "            role_job                                             Skills  \\\n",
       "15  hadoop developer  hadoop,unix,hive,hbase,sqoop,big data,core jav...   \n",
       "25     php developer  css3,facebook,open source,customer service,cak...   \n",
       "53   trainer/faculty  data science,statistics,deep learning,r,python...   \n",
       "5      data engineer  ms sql,stored procedures,ssrs,sql development,...   \n",
       "28      project lead  report writing,proposal writing,project planni...   \n",
       "\n",
       "                       field  \n",
       "15  Emerging and Specialized  \n",
       "25      Software Development  \n",
       "53  Emerging and Specialized  \n",
       "5         Data and Analytics  \n",
       "28        Product Management  "
      ]
     },
     "execution_count": 251,
     "metadata": {},
     "output_type": "execute_result"
    }
   ],
   "source": [
    "IT = pd.read_csv('../../static/csv/role_job_skills.csv')\n",
    "IT.sample(5)"
   ]
  },
  {
   "cell_type": "code",
   "execution_count": 252,
   "metadata": {},
   "outputs": [
    {
     "data": {
      "text/plain": [
       "str"
      ]
     },
     "execution_count": 252,
     "metadata": {},
     "output_type": "execute_result"
    }
   ],
   "source": [
    "type(IT['Skills'][0])"
   ]
  },
  {
   "cell_type": "code",
   "execution_count": 253,
   "metadata": {},
   "outputs": [
    {
     "data": {
      "text/plain": [
       "168"
      ]
     },
     "execution_count": 253,
     "metadata": {},
     "output_type": "execute_result"
    }
   ],
   "source": [
    "IT.size"
   ]
  },
  {
   "cell_type": "code",
   "execution_count": 254,
   "metadata": {},
   "outputs": [],
   "source": [
    "field_mapping = {\n",
    "    'Software Development' : 1,\n",
    "    'Data and Analytics' : 2,\n",
    "    'Design and UX/UI' : 3,\n",
    "    'Product Management' : 4,\n",
    "    'Testing and Quality Assurance' : 5,\n",
    "    'Security' : 6,\n",
    "    'Networking and Infrastructure' : 7,\n",
    "    'Project Management' : 8,\n",
    "    'Business and Strategy' : 9,\n",
    "    'Emerging and Specialized' : 10,\n",
    "}"
   ]
  },
  {
   "cell_type": "code",
   "execution_count": 255,
   "metadata": {},
   "outputs": [
    {
     "data": {
      "text/html": [
       "<div>\n",
       "<style scoped>\n",
       "    .dataframe tbody tr th:only-of-type {\n",
       "        vertical-align: middle;\n",
       "    }\n",
       "\n",
       "    .dataframe tbody tr th {\n",
       "        vertical-align: top;\n",
       "    }\n",
       "\n",
       "    .dataframe thead th {\n",
       "        text-align: right;\n",
       "    }\n",
       "</style>\n",
       "<table border=\"1\" class=\"dataframe\">\n",
       "  <thead>\n",
       "    <tr style=\"text-align: right;\">\n",
       "      <th></th>\n",
       "      <th>role_job</th>\n",
       "      <th>Skills</th>\n",
       "      <th>field</th>\n",
       "      <th>field_id</th>\n",
       "    </tr>\n",
       "  </thead>\n",
       "  <tbody>\n",
       "    <tr>\n",
       "      <th>39</th>\n",
       "      <td>solution architect</td>\n",
       "      <td>analytical skills,software architecture,operat...</td>\n",
       "      <td>Business and Strategy</td>\n",
       "      <td>9</td>\n",
       "    </tr>\n",
       "    <tr>\n",
       "      <th>29</th>\n",
       "      <td>project manager</td>\n",
       "      <td>wan,telecom,wireless,bss,visio,vpn,telecommuni...</td>\n",
       "      <td>Product Management</td>\n",
       "      <td>4</td>\n",
       "    </tr>\n",
       "    <tr>\n",
       "      <th>54</th>\n",
       "      <td>ui/ux developer</td>\n",
       "      <td>software development,application,ajax,technica...</td>\n",
       "      <td>Design and UX/UI</td>\n",
       "      <td>3</td>\n",
       "    </tr>\n",
       "  </tbody>\n",
       "</table>\n",
       "</div>"
      ],
      "text/plain": [
       "              role_job                                             Skills  \\\n",
       "39  solution architect  analytical skills,software architecture,operat...   \n",
       "29     project manager  wan,telecom,wireless,bss,visio,vpn,telecommuni...   \n",
       "54     ui/ux developer  software development,application,ajax,technica...   \n",
       "\n",
       "                    field  field_id  \n",
       "39  Business and Strategy         9  \n",
       "29     Product Management         4  \n",
       "54       Design and UX/UI         3  "
      ]
     },
     "execution_count": 255,
     "metadata": {},
     "output_type": "execute_result"
    }
   ],
   "source": [
    "# Map the 'field' column to the 'field_id' column\n",
    "IT['field_id'] = IT['field'].map(field_mapping)\n",
    "IT.sample(3)"
   ]
  },
  {
   "cell_type": "code",
   "execution_count": 402,
   "metadata": {},
   "outputs": [
    {
     "data": {
      "text/html": [
       "<div>\n",
       "<style scoped>\n",
       "    .dataframe tbody tr th:only-of-type {\n",
       "        vertical-align: middle;\n",
       "    }\n",
       "\n",
       "    .dataframe tbody tr th {\n",
       "        vertical-align: top;\n",
       "    }\n",
       "\n",
       "    .dataframe thead th {\n",
       "        text-align: right;\n",
       "    }\n",
       "</style>\n",
       "<table border=\"1\" class=\"dataframe\">\n",
       "  <thead>\n",
       "    <tr style=\"text-align: right;\">\n",
       "      <th></th>\n",
       "      <th>role_job</th>\n",
       "      <th>field_id</th>\n",
       "      <th>Skills</th>\n",
       "    </tr>\n",
       "  </thead>\n",
       "  <tbody>\n",
       "    <tr>\n",
       "      <th>3</th>\n",
       "      <td>c++ developer</td>\n",
       "      <td>1</td>\n",
       "      <td>programmer,developer,tcp,c++,ip,life sciences,...</td>\n",
       "    </tr>\n",
       "    <tr>\n",
       "      <th>14</th>\n",
       "      <td>graphic designer</td>\n",
       "      <td>3</td>\n",
       "      <td>graphic designing,web designing,graphic design...</td>\n",
       "    </tr>\n",
       "    <tr>\n",
       "      <th>25</th>\n",
       "      <td>php developer</td>\n",
       "      <td>1</td>\n",
       "      <td>css3,facebook,open source,customer service,cak...</td>\n",
       "    </tr>\n",
       "  </tbody>\n",
       "</table>\n",
       "</div>"
      ],
      "text/plain": [
       "            role_job  field_id  \\\n",
       "3      c++ developer         1   \n",
       "14  graphic designer         3   \n",
       "25     php developer         1   \n",
       "\n",
       "                                               Skills  \n",
       "3   programmer,developer,tcp,c++,ip,life sciences,...  \n",
       "14  graphic designing,web designing,graphic design...  \n",
       "25  css3,facebook,open source,customer service,cak...  "
      ]
     },
     "execution_count": 402,
     "metadata": {},
     "output_type": "execute_result"
    }
   ],
   "source": [
    "IT_sub = IT[['role_job','field_id','Skills']]\n",
    "IT_sub.sample(3)"
   ]
  },
  {
   "cell_type": "code",
   "execution_count": 403,
   "metadata": {},
   "outputs": [
    {
     "name": "stdout",
     "output_type": "stream",
     "text": [
      "['programmer', 'developer', 'tcp', 'c++', 'ip', 'life sciences']\n"
     ]
    }
   ],
   "source": [
    "def convert_to_list(skill_string):\n",
    "    return [skill.strip() for skill in skill_string.split(',')]\n",
    "\n",
    "# Example usage\n",
    "original_string = \"programmer,developer,tcp,c++,ip,life sciences\"\n",
    "converted_list = convert_to_list(original_string)\n",
    "print(converted_list)"
   ]
  },
  {
   "cell_type": "code",
   "execution_count": 404,
   "metadata": {},
   "outputs": [
    {
     "name": "stderr",
     "output_type": "stream",
     "text": [
      "C:\\Users\\aky\\AppData\\Local\\Temp\\ipykernel_16860\\2603695032.py:3: SettingWithCopyWarning: \n",
      "A value is trying to be set on a copy of a slice from a DataFrame.\n",
      "Try using .loc[row_indexer,col_indexer] = value instead\n",
      "\n",
      "See the caveats in the documentation: https://pandas.pydata.org/pandas-docs/stable/user_guide/indexing.html#returning-a-view-versus-a-copy\n",
      "  IT_sub['Skills'] = IT_sub['Skills'].apply(lambda x: convert_to_list(x) if pd.notna(x) else [])\n"
     ]
    },
    {
     "data": {
      "text/html": [
       "<div>\n",
       "<style scoped>\n",
       "    .dataframe tbody tr th:only-of-type {\n",
       "        vertical-align: middle;\n",
       "    }\n",
       "\n",
       "    .dataframe tbody tr th {\n",
       "        vertical-align: top;\n",
       "    }\n",
       "\n",
       "    .dataframe thead th {\n",
       "        text-align: right;\n",
       "    }\n",
       "</style>\n",
       "<table border=\"1\" class=\"dataframe\">\n",
       "  <thead>\n",
       "    <tr style=\"text-align: right;\">\n",
       "      <th></th>\n",
       "      <th>role_job</th>\n",
       "      <th>field_id</th>\n",
       "      <th>Skills</th>\n",
       "    </tr>\n",
       "  </thead>\n",
       "  <tbody>\n",
       "    <tr>\n",
       "      <th>0</th>\n",
       "      <td>application developer</td>\n",
       "      <td>1</td>\n",
       "      <td>[weblogic, junit, jpa, sql, json, html, jms, j...</td>\n",
       "    </tr>\n",
       "    <tr>\n",
       "      <th>1</th>\n",
       "      <td>backend developer</td>\n",
       "      <td>1</td>\n",
       "      <td>[computer science, http, php, data structures,...</td>\n",
       "    </tr>\n",
       "    <tr>\n",
       "      <th>2</th>\n",
       "      <td>business analyst</td>\n",
       "      <td>9</td>\n",
       "      <td>[product marketing, analytical, google analyti...</td>\n",
       "    </tr>\n",
       "    <tr>\n",
       "      <th>3</th>\n",
       "      <td>c++ developer</td>\n",
       "      <td>1</td>\n",
       "      <td>[programmer, developer, tcp, c++, ip, life sci...</td>\n",
       "    </tr>\n",
       "    <tr>\n",
       "      <th>4</th>\n",
       "      <td>consultant</td>\n",
       "      <td>9</td>\n",
       "      <td>[customization, open, cvs, rest, technical, e-...</td>\n",
       "    </tr>\n",
       "  </tbody>\n",
       "</table>\n",
       "</div>"
      ],
      "text/plain": [
       "                role_job  field_id  \\\n",
       "0  application developer         1   \n",
       "1      backend developer         1   \n",
       "2       business analyst         9   \n",
       "3          c++ developer         1   \n",
       "4             consultant         9   \n",
       "\n",
       "                                              Skills  \n",
       "0  [weblogic, junit, jpa, sql, json, html, jms, j...  \n",
       "1  [computer science, http, php, data structures,...  \n",
       "2  [product marketing, analytical, google analyti...  \n",
       "3  [programmer, developer, tcp, c++, ip, life sci...  \n",
       "4  [customization, open, cvs, rest, technical, e-...  "
      ]
     },
     "execution_count": 404,
     "metadata": {},
     "output_type": "execute_result"
    }
   ],
   "source": [
    "# # add new column\n",
    "# IT_sub['Skills'] = IT_sub['Skills'].apply(convert_to_list)\n",
    "IT_sub['Skills'] = IT_sub['Skills'].apply(lambda x: convert_to_list(x) if pd.notna(x) else [])\n",
    "IT_sub.head()"
   ]
  },
  {
   "cell_type": "code",
   "execution_count": 405,
   "metadata": {},
   "outputs": [],
   "source": [
    "# get skills list of these fields data engineer, data scientist, product manager, software developer, software engineer\n",
    "data_engineer = IT[IT['role_job'] == 'data engineer']['Skills'].tolist()[0].split(',')\n",
    "data_scientist = IT[IT['role_job'] == 'data scientist']['Skills'].tolist()[0].split(',')\n",
    "product_manager = IT[IT['role_job'] == 'product manager']['Skills'].tolist()[0].split(',')\n",
    "software_developer = IT[IT['role_job'] == 'software developer']['Skills'].tolist()[0].split(',')\n",
    "software_engineer = IT[IT['role_job'] == 'software engineer']['Skills'].tolist()[0].split(',')\n",
    "\n",
    "# then drop these list\n",
    "IT_sub = IT_sub.drop(IT_sub[IT_sub['role_job'] == 'data engineer'].index)\n",
    "IT_sub = IT_sub.drop(IT_sub[IT_sub['role_job'] == 'data scientist'].index)\n",
    "IT_sub = IT_sub.drop(IT_sub[IT_sub['role_job'] == 'product manager'].index)\n",
    "IT_sub = IT_sub.drop(IT_sub[IT_sub['role_job'] == 'software developer'].index)\n",
    "IT_sub = IT_sub.drop(IT_sub[IT_sub['role_job'] == 'software engineer'].index)"
   ]
  },
  {
   "cell_type": "code",
   "execution_count": 264,
   "metadata": {},
   "outputs": [
    {
     "data": {
      "text/html": [
       "<div>\n",
       "<style scoped>\n",
       "    .dataframe tbody tr th:only-of-type {\n",
       "        vertical-align: middle;\n",
       "    }\n",
       "\n",
       "    .dataframe tbody tr th {\n",
       "        vertical-align: top;\n",
       "    }\n",
       "\n",
       "    .dataframe thead th {\n",
       "        text-align: right;\n",
       "    }\n",
       "</style>\n",
       "<table border=\"1\" class=\"dataframe\">\n",
       "  <thead>\n",
       "    <tr style=\"text-align: right;\">\n",
       "      <th></th>\n",
       "      <th>specialization_id</th>\n",
       "      <th>field_id</th>\n",
       "      <th>title</th>\n",
       "      <th>description</th>\n",
       "      <th>roadmap_id</th>\n",
       "      <th>skill_list</th>\n",
       "    </tr>\n",
       "  </thead>\n",
       "  <tbody>\n",
       "    <tr>\n",
       "      <th>40</th>\n",
       "      <td>41</td>\n",
       "      <td>10</td>\n",
       "      <td>edge computing engineer</td>\n",
       "      <td>Edge Computing Engineers design and implement ...</td>\n",
       "      <td>41</td>\n",
       "      <td>[edge computing, iot (internet of things), dis...</td>\n",
       "    </tr>\n",
       "    <tr>\n",
       "      <th>1</th>\n",
       "      <td>2</td>\n",
       "      <td>1</td>\n",
       "      <td>Back-End</td>\n",
       "      <td>Back-End Developers work on the server-side of...</td>\n",
       "      <td>2</td>\n",
       "      <td>[node.js, python, ruby, java, database managem...</td>\n",
       "    </tr>\n",
       "    <tr>\n",
       "      <th>5</th>\n",
       "      <td>6</td>\n",
       "      <td>1</td>\n",
       "      <td>Mobile App Developer</td>\n",
       "      <td>Mobile App Developers specialize in creating a...</td>\n",
       "      <td>6</td>\n",
       "      <td>[mobile app development, ios and android platf...</td>\n",
       "    </tr>\n",
       "  </tbody>\n",
       "</table>\n",
       "</div>"
      ],
      "text/plain": [
       "    specialization_id  field_id                    title  \\\n",
       "40                 41        10  edge computing engineer   \n",
       "1                   2         1                 Back-End   \n",
       "5                   6         1     Mobile App Developer   \n",
       "\n",
       "                                          description  roadmap_id  \\\n",
       "40  Edge Computing Engineers design and implement ...          41   \n",
       "1   Back-End Developers work on the server-side of...           2   \n",
       "5   Mobile App Developers specialize in creating a...           6   \n",
       "\n",
       "                                           skill_list  \n",
       "40  [edge computing, iot (internet of things), dis...  \n",
       "1   [node.js, python, ruby, java, database managem...  \n",
       "5   [mobile app development, ios and android platf...  "
      ]
     },
     "execution_count": 264,
     "metadata": {},
     "output_type": "execute_result"
    }
   ],
   "source": [
    "specialization.sample(3)"
   ]
  },
  {
   "cell_type": "code",
   "execution_count": 299,
   "metadata": {},
   "outputs": [],
   "source": [
    "# Get the current skill_list for the target role\n",
    "# data engineer, data scientist, product manager, software developer, software engineer\n",
    "data_engineer_current_skill_list = specialization.loc[specialization['title'] == 'Data Engineer', 'skill_list'].iloc[0]\n",
    "data_scientist_current_skill_list = specialization.loc[specialization['title'] == 'Data Scientist', 'skill_list'].iloc[0]\n",
    "product_manager_current_skill_list = specialization.loc[specialization['title'] == 'Product Manager', 'skill_list'].iloc[0]\n",
    "software_developer_current_skill_list = specialization.loc[specialization['title'] == 'Software Developer', 'skill_list'].iloc[0]\n",
    "software_engineer_current_skill_list = specialization.loc[specialization['title'] == 'Software Engineer', 'skill_list'].iloc[0]"
   ]
  },
  {
   "cell_type": "code",
   "execution_count": 336,
   "metadata": {},
   "outputs": [],
   "source": [
    "# Append the new_skill_list to the current_skill_list\n",
    "updated_data_engineer_skill_list = data_engineer_current_skill_list + data_engineer\n",
    "updated_data_scientist_skill_list = data_scientist_current_skill_list + data_scientist\n",
    "updated_product_manager_skill_list = product_manager_current_skill_list + product_manager\n",
    "updated_software_developer_skill_list = software_developer_current_skill_list + software_developer\n",
    "updated_software_engineer_skill_list = software_engineer_current_skill_list + software_engineer"
   ]
  },
  {
   "cell_type": "code",
   "execution_count": 355,
   "metadata": {},
   "outputs": [],
   "source": [
    "replace_1 = lambda x: updated_data_engineer_skill_list if x['title'] == 'Data Engineer' else x['skill_list']\n",
    "replace_2 = lambda x: updated_data_scientist_skill_list if x['title'] == 'Data Scientist' else x['skill_list']\n",
    "replace_3 = lambda x: updated_product_manager_skill_list if x['title'] == 'Product Manager' else x['skill_list']\n",
    "replace_4 = lambda x: updated_software_developer_skill_list if x['title'] == 'Software Developer' else x['skill_list']\n",
    "replace_5 = lambda x: updated_software_engineer_skill_list if x['title'] == 'Software Engineer' else x['skill_list']"
   ]
  },
  {
   "cell_type": "code",
   "execution_count": 401,
   "metadata": {},
   "outputs": [],
   "source": [
    "specialization = specialization.assign(skill_list=specialization.apply(replace_1, axis=1))\n",
    "specialization = specialization.assign(skill_list=specialization.apply(replace_2, axis=1))\n",
    "specialization = specialization.assign(skill_list=specialization.apply(replace_3, axis=1))\n",
    "specialization = specialization.assign(skill_list=specialization.apply(replace_4, axis=1))\n",
    "specialization = specialization.assign(skill_list=specialization.apply(replace_5, axis=1))"
   ]
  },
  {
   "cell_type": "code",
   "execution_count": 359,
   "metadata": {},
   "outputs": [
    {
     "data": {
      "text/plain": [
       "14    [data pipeline development, data integration, ...\n",
       "Name: skill_list, dtype: object"
      ]
     },
     "execution_count": 359,
     "metadata": {},
     "output_type": "execute_result"
    }
   ],
   "source": [
    "specialization.loc[specialization['title'] == 'Data Engineer']['skill_list']"
   ]
  },
  {
   "cell_type": "code",
   "execution_count": 271,
   "metadata": {},
   "outputs": [
    {
     "data": {
      "text/html": [
       "<div>\n",
       "<style scoped>\n",
       "    .dataframe tbody tr th:only-of-type {\n",
       "        vertical-align: middle;\n",
       "    }\n",
       "\n",
       "    .dataframe tbody tr th {\n",
       "        vertical-align: top;\n",
       "    }\n",
       "\n",
       "    .dataframe thead th {\n",
       "        text-align: right;\n",
       "    }\n",
       "</style>\n",
       "<table border=\"1\" class=\"dataframe\">\n",
       "  <thead>\n",
       "    <tr style=\"text-align: right;\">\n",
       "      <th></th>\n",
       "      <th>specialization_id</th>\n",
       "      <th>field_id</th>\n",
       "      <th>title</th>\n",
       "      <th>description</th>\n",
       "      <th>roadmap_id</th>\n",
       "      <th>skill_list</th>\n",
       "    </tr>\n",
       "  </thead>\n",
       "  <tbody>\n",
       "    <tr>\n",
       "      <th>3</th>\n",
       "      <td>4</td>\n",
       "      <td>1</td>\n",
       "      <td>Software Engineer</td>\n",
       "      <td>Software Engineers design and develop software...</td>\n",
       "      <td>4</td>\n",
       "      <td>object-oriented programming (oop)</td>\n",
       "    </tr>\n",
       "  </tbody>\n",
       "</table>\n",
       "</div>"
      ],
      "text/plain": [
       "   specialization_id  field_id              title  \\\n",
       "3                  4         1  Software Engineer   \n",
       "\n",
       "                                         description  roadmap_id  \\\n",
       "3  Software Engineers design and develop software...           4   \n",
       "\n",
       "                          skill_list  \n",
       "3  object-oriented programming (oop)  "
      ]
     },
     "execution_count": 271,
     "metadata": {},
     "output_type": "execute_result"
    }
   ],
   "source": [
    "# # Update the DataFrame with the modified skill_list for the target role\n",
    "# specialization.loc[specialization['title'] == 'Data Engineer']\n",
    "# specialization.loc[specialization['title'] == 'Data Scientist']\n",
    "# specialization.loc[specialization['title'] == 'Product Manager']\n",
    "# specialization.loc[specialization['title'] == 'Software Developer']\n",
    "# specialization.loc[specialization['title'] == 'Software Engineer']"
   ]
  },
  {
   "cell_type": "code",
   "execution_count": 406,
   "metadata": {},
   "outputs": [],
   "source": [
    "# rename skills to skill_list\n",
    "IT_sub = IT_sub.rename(columns={'Skills':'skill_list'})"
   ]
  },
  {
   "cell_type": "code",
   "execution_count": 407,
   "metadata": {},
   "outputs": [
    {
     "data": {
      "text/plain": [
       "list"
      ]
     },
     "execution_count": 407,
     "metadata": {},
     "output_type": "execute_result"
    }
   ],
   "source": [
    "type(IT_sub['skill_list'][0])"
   ]
  },
  {
   "cell_type": "code",
   "execution_count": 408,
   "metadata": {},
   "outputs": [
    {
     "data": {
      "text/html": [
       "<div>\n",
       "<style scoped>\n",
       "    .dataframe tbody tr th:only-of-type {\n",
       "        vertical-align: middle;\n",
       "    }\n",
       "\n",
       "    .dataframe tbody tr th {\n",
       "        vertical-align: top;\n",
       "    }\n",
       "\n",
       "    .dataframe thead th {\n",
       "        text-align: right;\n",
       "    }\n",
       "</style>\n",
       "<table border=\"1\" class=\"dataframe\">\n",
       "  <thead>\n",
       "    <tr style=\"text-align: right;\">\n",
       "      <th></th>\n",
       "      <th>role_job</th>\n",
       "      <th>field_id</th>\n",
       "      <th>skill_list</th>\n",
       "    </tr>\n",
       "  </thead>\n",
       "  <tbody>\n",
       "    <tr>\n",
       "      <th>12</th>\n",
       "      <td>full stack developer</td>\n",
       "      <td>1</td>\n",
       "      <td>[rest, java, jpa, spring mvc, html, css, web s...</td>\n",
       "    </tr>\n",
       "  </tbody>\n",
       "</table>\n",
       "</div>"
      ],
      "text/plain": [
       "                role_job  field_id  \\\n",
       "12  full stack developer         1   \n",
       "\n",
       "                                           skill_list  \n",
       "12  [rest, java, jpa, spring mvc, html, css, web s...  "
      ]
     },
     "execution_count": 408,
     "metadata": {},
     "output_type": "execute_result"
    }
   ],
   "source": [
    "IT_sub.sample(1)"
   ]
  },
  {
   "cell_type": "code",
   "execution_count": 409,
   "metadata": {},
   "outputs": [],
   "source": [
    "IT_sub['description'] = IT_sub['role_job']"
   ]
  },
  {
   "cell_type": "code",
   "execution_count": 410,
   "metadata": {},
   "outputs": [
    {
     "data": {
      "text/plain": [
       "41"
      ]
     },
     "execution_count": 410,
     "metadata": {},
     "output_type": "execute_result"
    }
   ],
   "source": [
    "# get last id of specialization\n",
    "last_id = specialization['specialization_id'].iloc[-1]\n",
    "last_id"
   ]
  },
  {
   "cell_type": "code",
   "execution_count": 411,
   "metadata": {},
   "outputs": [],
   "source": [
    "# reset index of IT_sub\n",
    "IT_sub.reset_index(inplace=True)"
   ]
  },
  {
   "cell_type": "code",
   "execution_count": 412,
   "metadata": {},
   "outputs": [
    {
     "data": {
      "text/html": [
       "<div>\n",
       "<style scoped>\n",
       "    .dataframe tbody tr th:only-of-type {\n",
       "        vertical-align: middle;\n",
       "    }\n",
       "\n",
       "    .dataframe tbody tr th {\n",
       "        vertical-align: top;\n",
       "    }\n",
       "\n",
       "    .dataframe thead th {\n",
       "        text-align: right;\n",
       "    }\n",
       "</style>\n",
       "<table border=\"1\" class=\"dataframe\">\n",
       "  <thead>\n",
       "    <tr style=\"text-align: right;\">\n",
       "      <th></th>\n",
       "      <th>index</th>\n",
       "      <th>role_job</th>\n",
       "      <th>field_id</th>\n",
       "      <th>skill_list</th>\n",
       "      <th>description</th>\n",
       "    </tr>\n",
       "  </thead>\n",
       "  <tbody>\n",
       "    <tr>\n",
       "      <th>0</th>\n",
       "      <td>0</td>\n",
       "      <td>application developer</td>\n",
       "      <td>1</td>\n",
       "      <td>[weblogic, junit, jpa, sql, json, html, jms, j...</td>\n",
       "      <td>application developer</td>\n",
       "    </tr>\n",
       "    <tr>\n",
       "      <th>1</th>\n",
       "      <td>1</td>\n",
       "      <td>backend developer</td>\n",
       "      <td>1</td>\n",
       "      <td>[computer science, http, php, data structures,...</td>\n",
       "      <td>backend developer</td>\n",
       "    </tr>\n",
       "    <tr>\n",
       "      <th>2</th>\n",
       "      <td>2</td>\n",
       "      <td>business analyst</td>\n",
       "      <td>9</td>\n",
       "      <td>[product marketing, analytical, google analyti...</td>\n",
       "      <td>business analyst</td>\n",
       "    </tr>\n",
       "  </tbody>\n",
       "</table>\n",
       "</div>"
      ],
      "text/plain": [
       "   index               role_job  field_id  \\\n",
       "0      0  application developer         1   \n",
       "1      1      backend developer         1   \n",
       "2      2       business analyst         9   \n",
       "\n",
       "                                          skill_list            description  \n",
       "0  [weblogic, junit, jpa, sql, json, html, jms, j...  application developer  \n",
       "1  [computer science, http, php, data structures,...      backend developer  \n",
       "2  [product marketing, analytical, google analyti...       business analyst  "
      ]
     },
     "execution_count": 412,
     "metadata": {},
     "output_type": "execute_result"
    }
   ],
   "source": [
    "IT_sub.head(3)"
   ]
  },
  {
   "cell_type": "code",
   "execution_count": 413,
   "metadata": {},
   "outputs": [
    {
     "data": {
      "text/html": [
       "<div>\n",
       "<style scoped>\n",
       "    .dataframe tbody tr th:only-of-type {\n",
       "        vertical-align: middle;\n",
       "    }\n",
       "\n",
       "    .dataframe tbody tr th {\n",
       "        vertical-align: top;\n",
       "    }\n",
       "\n",
       "    .dataframe thead th {\n",
       "        text-align: right;\n",
       "    }\n",
       "</style>\n",
       "<table border=\"1\" class=\"dataframe\">\n",
       "  <thead>\n",
       "    <tr style=\"text-align: right;\">\n",
       "      <th></th>\n",
       "      <th>index</th>\n",
       "      <th>role_job</th>\n",
       "      <th>field_id</th>\n",
       "      <th>skill_list</th>\n",
       "      <th>description</th>\n",
       "    </tr>\n",
       "  </thead>\n",
       "  <tbody>\n",
       "  </tbody>\n",
       "</table>\n",
       "</div>"
      ],
      "text/plain": [
       "Empty DataFrame\n",
       "Columns: [index, role_job, field_id, skill_list, description]\n",
       "Index: []"
      ]
     },
     "execution_count": 413,
     "metadata": {},
     "output_type": "execute_result"
    }
   ],
   "source": [
    "# check for duplicate role_job\n",
    "IT_sub[IT_sub.duplicated(['role_job'])]"
   ]
  },
  {
   "cell_type": "code",
   "execution_count": 414,
   "metadata": {},
   "outputs": [],
   "source": [
    "# add new id for IT_sub\n",
    "IT_sub['specialization_id'] = IT_sub.index + last_id + 1"
   ]
  },
  {
   "cell_type": "code",
   "execution_count": 415,
   "metadata": {},
   "outputs": [
    {
     "data": {
      "text/html": [
       "<div>\n",
       "<style scoped>\n",
       "    .dataframe tbody tr th:only-of-type {\n",
       "        vertical-align: middle;\n",
       "    }\n",
       "\n",
       "    .dataframe tbody tr th {\n",
       "        vertical-align: top;\n",
       "    }\n",
       "\n",
       "    .dataframe thead th {\n",
       "        text-align: right;\n",
       "    }\n",
       "</style>\n",
       "<table border=\"1\" class=\"dataframe\">\n",
       "  <thead>\n",
       "    <tr style=\"text-align: right;\">\n",
       "      <th></th>\n",
       "      <th>index</th>\n",
       "      <th>role_job</th>\n",
       "      <th>field_id</th>\n",
       "      <th>skill_list</th>\n",
       "      <th>description</th>\n",
       "      <th>specialization_id</th>\n",
       "    </tr>\n",
       "  </thead>\n",
       "  <tbody>\n",
       "    <tr>\n",
       "      <th>0</th>\n",
       "      <td>0</td>\n",
       "      <td>application developer</td>\n",
       "      <td>1</td>\n",
       "      <td>[weblogic, junit, jpa, sql, json, html, jms, j...</td>\n",
       "      <td>application developer</td>\n",
       "      <td>42</td>\n",
       "    </tr>\n",
       "    <tr>\n",
       "      <th>1</th>\n",
       "      <td>1</td>\n",
       "      <td>backend developer</td>\n",
       "      <td>1</td>\n",
       "      <td>[computer science, http, php, data structures,...</td>\n",
       "      <td>backend developer</td>\n",
       "      <td>43</td>\n",
       "    </tr>\n",
       "    <tr>\n",
       "      <th>2</th>\n",
       "      <td>2</td>\n",
       "      <td>business analyst</td>\n",
       "      <td>9</td>\n",
       "      <td>[product marketing, analytical, google analyti...</td>\n",
       "      <td>business analyst</td>\n",
       "      <td>44</td>\n",
       "    </tr>\n",
       "  </tbody>\n",
       "</table>\n",
       "</div>"
      ],
      "text/plain": [
       "   index               role_job  field_id  \\\n",
       "0      0  application developer         1   \n",
       "1      1      backend developer         1   \n",
       "2      2       business analyst         9   \n",
       "\n",
       "                                          skill_list            description  \\\n",
       "0  [weblogic, junit, jpa, sql, json, html, jms, j...  application developer   \n",
       "1  [computer science, http, php, data structures,...      backend developer   \n",
       "2  [product marketing, analytical, google analyti...       business analyst   \n",
       "\n",
       "   specialization_id  \n",
       "0                 42  \n",
       "1                 43  \n",
       "2                 44  "
      ]
     },
     "execution_count": 415,
     "metadata": {},
     "output_type": "execute_result"
    }
   ],
   "source": [
    "IT_sub.head(3)"
   ]
  },
  {
   "cell_type": "code",
   "execution_count": 416,
   "metadata": {},
   "outputs": [
    {
     "data": {
      "text/html": [
       "<div>\n",
       "<style scoped>\n",
       "    .dataframe tbody tr th:only-of-type {\n",
       "        vertical-align: middle;\n",
       "    }\n",
       "\n",
       "    .dataframe tbody tr th {\n",
       "        vertical-align: top;\n",
       "    }\n",
       "\n",
       "    .dataframe thead th {\n",
       "        text-align: right;\n",
       "    }\n",
       "</style>\n",
       "<table border=\"1\" class=\"dataframe\">\n",
       "  <thead>\n",
       "    <tr style=\"text-align: right;\">\n",
       "      <th></th>\n",
       "      <th>index</th>\n",
       "      <th>role_job</th>\n",
       "      <th>field_id</th>\n",
       "      <th>skill_list</th>\n",
       "      <th>description</th>\n",
       "      <th>specialization_id</th>\n",
       "      <th>roadmap_id</th>\n",
       "    </tr>\n",
       "  </thead>\n",
       "  <tbody>\n",
       "    <tr>\n",
       "      <th>0</th>\n",
       "      <td>0</td>\n",
       "      <td>application developer</td>\n",
       "      <td>1</td>\n",
       "      <td>[weblogic, junit, jpa, sql, json, html, jms, j...</td>\n",
       "      <td>application developer</td>\n",
       "      <td>42</td>\n",
       "      <td>42</td>\n",
       "    </tr>\n",
       "    <tr>\n",
       "      <th>1</th>\n",
       "      <td>1</td>\n",
       "      <td>backend developer</td>\n",
       "      <td>1</td>\n",
       "      <td>[computer science, http, php, data structures,...</td>\n",
       "      <td>backend developer</td>\n",
       "      <td>43</td>\n",
       "      <td>43</td>\n",
       "    </tr>\n",
       "    <tr>\n",
       "      <th>2</th>\n",
       "      <td>2</td>\n",
       "      <td>business analyst</td>\n",
       "      <td>9</td>\n",
       "      <td>[product marketing, analytical, google analyti...</td>\n",
       "      <td>business analyst</td>\n",
       "      <td>44</td>\n",
       "      <td>44</td>\n",
       "    </tr>\n",
       "  </tbody>\n",
       "</table>\n",
       "</div>"
      ],
      "text/plain": [
       "   index               role_job  field_id  \\\n",
       "0      0  application developer         1   \n",
       "1      1      backend developer         1   \n",
       "2      2       business analyst         9   \n",
       "\n",
       "                                          skill_list            description  \\\n",
       "0  [weblogic, junit, jpa, sql, json, html, jms, j...  application developer   \n",
       "1  [computer science, http, php, data structures,...      backend developer   \n",
       "2  [product marketing, analytical, google analyti...       business analyst   \n",
       "\n",
       "   specialization_id  roadmap_id  \n",
       "0                 42          42  \n",
       "1                 43          43  \n",
       "2                 44          44  "
      ]
     },
     "execution_count": 416,
     "metadata": {},
     "output_type": "execute_result"
    }
   ],
   "source": [
    "IT_sub['roadmap_id'] = IT_sub['specialization_id']\n",
    "IT_sub.head(3)"
   ]
  },
  {
   "cell_type": "code",
   "execution_count": 417,
   "metadata": {},
   "outputs": [],
   "source": [
    "# rename role_job to specialization_name\n",
    "IT_sub = IT_sub.rename(columns={'role_job':'title'})"
   ]
  },
  {
   "cell_type": "code",
   "execution_count": 418,
   "metadata": {},
   "outputs": [],
   "source": [
    "# make first letter of each word capital\n",
    "IT_sub['title'] = IT_sub['title'].str.title()"
   ]
  },
  {
   "cell_type": "code",
   "execution_count": 419,
   "metadata": {},
   "outputs": [],
   "source": [
    "IT_sub = IT_sub[['specialization_id', 'field_id', 'title', 'description', 'roadmap_id', 'skill_list']]"
   ]
  },
  {
   "cell_type": "code",
   "execution_count": 420,
   "metadata": {},
   "outputs": [
    {
     "data": {
      "text/html": [
       "<div>\n",
       "<style scoped>\n",
       "    .dataframe tbody tr th:only-of-type {\n",
       "        vertical-align: middle;\n",
       "    }\n",
       "\n",
       "    .dataframe tbody tr th {\n",
       "        vertical-align: top;\n",
       "    }\n",
       "\n",
       "    .dataframe thead th {\n",
       "        text-align: right;\n",
       "    }\n",
       "</style>\n",
       "<table border=\"1\" class=\"dataframe\">\n",
       "  <thead>\n",
       "    <tr style=\"text-align: right;\">\n",
       "      <th></th>\n",
       "      <th>specialization_id</th>\n",
       "      <th>field_id</th>\n",
       "      <th>title</th>\n",
       "      <th>description</th>\n",
       "      <th>roadmap_id</th>\n",
       "      <th>skill_list</th>\n",
       "    </tr>\n",
       "  </thead>\n",
       "  <tbody>\n",
       "    <tr>\n",
       "      <th>0</th>\n",
       "      <td>42</td>\n",
       "      <td>1</td>\n",
       "      <td>Application Developer</td>\n",
       "      <td>application developer</td>\n",
       "      <td>42</td>\n",
       "      <td>[weblogic, junit, jpa, sql, json, html, jms, j...</td>\n",
       "    </tr>\n",
       "    <tr>\n",
       "      <th>1</th>\n",
       "      <td>43</td>\n",
       "      <td>1</td>\n",
       "      <td>Backend Developer</td>\n",
       "      <td>backend developer</td>\n",
       "      <td>43</td>\n",
       "      <td>[computer science, http, php, data structures,...</td>\n",
       "    </tr>\n",
       "    <tr>\n",
       "      <th>2</th>\n",
       "      <td>44</td>\n",
       "      <td>9</td>\n",
       "      <td>Business Analyst</td>\n",
       "      <td>business analyst</td>\n",
       "      <td>44</td>\n",
       "      <td>[product marketing, analytical, google analyti...</td>\n",
       "    </tr>\n",
       "  </tbody>\n",
       "</table>\n",
       "</div>"
      ],
      "text/plain": [
       "   specialization_id  field_id                  title            description  \\\n",
       "0                 42         1  Application Developer  application developer   \n",
       "1                 43         1      Backend Developer      backend developer   \n",
       "2                 44         9       Business Analyst       business analyst   \n",
       "\n",
       "   roadmap_id                                         skill_list  \n",
       "0          42  [weblogic, junit, jpa, sql, json, html, jms, j...  \n",
       "1          43  [computer science, http, php, data structures,...  \n",
       "2          44  [product marketing, analytical, google analyti...  "
      ]
     },
     "execution_count": 420,
     "metadata": {},
     "output_type": "execute_result"
    }
   ],
   "source": [
    "IT_sub.head(3)"
   ]
  },
  {
   "cell_type": "code",
   "execution_count": 421,
   "metadata": {},
   "outputs": [],
   "source": [
    "specialization.reset_index(drop=True, inplace=True)\n",
    "IT_sub.reset_index(drop=True, inplace=True)"
   ]
  },
  {
   "cell_type": "code",
   "execution_count": 422,
   "metadata": {},
   "outputs": [
    {
     "data": {
      "text/html": [
       "<div>\n",
       "<style scoped>\n",
       "    .dataframe tbody tr th:only-of-type {\n",
       "        vertical-align: middle;\n",
       "    }\n",
       "\n",
       "    .dataframe tbody tr th {\n",
       "        vertical-align: top;\n",
       "    }\n",
       "\n",
       "    .dataframe thead th {\n",
       "        text-align: right;\n",
       "    }\n",
       "</style>\n",
       "<table border=\"1\" class=\"dataframe\">\n",
       "  <thead>\n",
       "    <tr style=\"text-align: right;\">\n",
       "      <th></th>\n",
       "      <th>specialization_id</th>\n",
       "      <th>field_id</th>\n",
       "      <th>title</th>\n",
       "      <th>description</th>\n",
       "      <th>roadmap_id</th>\n",
       "      <th>skill_list</th>\n",
       "    </tr>\n",
       "  </thead>\n",
       "  <tbody>\n",
       "    <tr>\n",
       "      <th>38</th>\n",
       "      <td>39</td>\n",
       "      <td>10</td>\n",
       "      <td>virtual reality (vr) developer</td>\n",
       "      <td>VR Developers create immersive virtual reality...</td>\n",
       "      <td>39</td>\n",
       "      <td>[virtual reality development, 3d modeling, vr ...</td>\n",
       "    </tr>\n",
       "    <tr>\n",
       "      <th>39</th>\n",
       "      <td>40</td>\n",
       "      <td>10</td>\n",
       "      <td>augmented reality (ar) developer</td>\n",
       "      <td>AR Developers build applications that overlay ...</td>\n",
       "      <td>40</td>\n",
       "      <td>[augmented reality development, ar frameworks,...</td>\n",
       "    </tr>\n",
       "    <tr>\n",
       "      <th>40</th>\n",
       "      <td>41</td>\n",
       "      <td>10</td>\n",
       "      <td>edge computing engineer</td>\n",
       "      <td>Edge Computing Engineers design and implement ...</td>\n",
       "      <td>41</td>\n",
       "      <td>[edge computing, iot (internet of things), dis...</td>\n",
       "    </tr>\n",
       "  </tbody>\n",
       "</table>\n",
       "</div>"
      ],
      "text/plain": [
       "    specialization_id  field_id                             title  \\\n",
       "38                 39        10    virtual reality (vr) developer   \n",
       "39                 40        10  augmented reality (ar) developer   \n",
       "40                 41        10           edge computing engineer   \n",
       "\n",
       "                                          description  roadmap_id  \\\n",
       "38  VR Developers create immersive virtual reality...          39   \n",
       "39  AR Developers build applications that overlay ...          40   \n",
       "40  Edge Computing Engineers design and implement ...          41   \n",
       "\n",
       "                                           skill_list  \n",
       "38  [virtual reality development, 3d modeling, vr ...  \n",
       "39  [augmented reality development, ar frameworks,...  \n",
       "40  [edge computing, iot (internet of things), dis...  "
      ]
     },
     "execution_count": 422,
     "metadata": {},
     "output_type": "execute_result"
    }
   ],
   "source": [
    "specialization.tail(3)"
   ]
  },
  {
   "cell_type": "code",
   "execution_count": 423,
   "metadata": {},
   "outputs": [
    {
     "data": {
      "text/html": [
       "<div>\n",
       "<style scoped>\n",
       "    .dataframe tbody tr th:only-of-type {\n",
       "        vertical-align: middle;\n",
       "    }\n",
       "\n",
       "    .dataframe tbody tr th {\n",
       "        vertical-align: top;\n",
       "    }\n",
       "\n",
       "    .dataframe thead th {\n",
       "        text-align: right;\n",
       "    }\n",
       "</style>\n",
       "<table border=\"1\" class=\"dataframe\">\n",
       "  <thead>\n",
       "    <tr style=\"text-align: right;\">\n",
       "      <th></th>\n",
       "      <th>specialization_id</th>\n",
       "      <th>field_id</th>\n",
       "      <th>title</th>\n",
       "      <th>description</th>\n",
       "      <th>roadmap_id</th>\n",
       "      <th>skill_list</th>\n",
       "    </tr>\n",
       "  </thead>\n",
       "  <tbody>\n",
       "    <tr>\n",
       "      <th>41</th>\n",
       "      <td>42</td>\n",
       "      <td>1</td>\n",
       "      <td>Application Developer</td>\n",
       "      <td>application developer</td>\n",
       "      <td>42</td>\n",
       "      <td>[weblogic, junit, jpa, sql, json, html, jms, j...</td>\n",
       "    </tr>\n",
       "    <tr>\n",
       "      <th>42</th>\n",
       "      <td>43</td>\n",
       "      <td>1</td>\n",
       "      <td>Backend Developer</td>\n",
       "      <td>backend developer</td>\n",
       "      <td>43</td>\n",
       "      <td>[computer science, http, php, data structures,...</td>\n",
       "    </tr>\n",
       "    <tr>\n",
       "      <th>43</th>\n",
       "      <td>44</td>\n",
       "      <td>9</td>\n",
       "      <td>Business Analyst</td>\n",
       "      <td>business analyst</td>\n",
       "      <td>44</td>\n",
       "      <td>[product marketing, analytical, google analyti...</td>\n",
       "    </tr>\n",
       "  </tbody>\n",
       "</table>\n",
       "</div>"
      ],
      "text/plain": [
       "    specialization_id  field_id                  title            description  \\\n",
       "41                 42         1  Application Developer  application developer   \n",
       "42                 43         1      Backend Developer      backend developer   \n",
       "43                 44         9       Business Analyst       business analyst   \n",
       "\n",
       "    roadmap_id                                         skill_list  \n",
       "41          42  [weblogic, junit, jpa, sql, json, html, jms, j...  \n",
       "42          43  [computer science, http, php, data structures,...  \n",
       "43          44  [product marketing, analytical, google analyti...  "
      ]
     },
     "execution_count": 423,
     "metadata": {},
     "output_type": "execute_result"
    }
   ],
   "source": [
    "# start index from last index of specialization\n",
    "IT_sub.index = IT_sub.index + specialization.index[-1] + 1\n",
    "IT_sub.head(3)"
   ]
  },
  {
   "cell_type": "code",
   "execution_count": 424,
   "metadata": {},
   "outputs": [
    {
     "data": {
      "text/html": [
       "<div>\n",
       "<style scoped>\n",
       "    .dataframe tbody tr th:only-of-type {\n",
       "        vertical-align: middle;\n",
       "    }\n",
       "\n",
       "    .dataframe tbody tr th {\n",
       "        vertical-align: top;\n",
       "    }\n",
       "\n",
       "    .dataframe thead th {\n",
       "        text-align: right;\n",
       "    }\n",
       "</style>\n",
       "<table border=\"1\" class=\"dataframe\">\n",
       "  <thead>\n",
       "    <tr style=\"text-align: right;\">\n",
       "      <th></th>\n",
       "      <th>specialization_id</th>\n",
       "      <th>field_id</th>\n",
       "      <th>title</th>\n",
       "      <th>description</th>\n",
       "      <th>roadmap_id</th>\n",
       "      <th>skill_list</th>\n",
       "    </tr>\n",
       "  </thead>\n",
       "  <tbody>\n",
       "    <tr>\n",
       "      <th>87</th>\n",
       "      <td>88</td>\n",
       "      <td>10</td>\n",
       "      <td>Technical Support Engineer</td>\n",
       "      <td>technical support engineer</td>\n",
       "      <td>88</td>\n",
       "      <td>[unix operating system, netbackup, windows os,...</td>\n",
       "    </tr>\n",
       "    <tr>\n",
       "      <th>88</th>\n",
       "      <td>89</td>\n",
       "      <td>10</td>\n",
       "      <td>Trainee</td>\n",
       "      <td>trainee</td>\n",
       "      <td>89</td>\n",
       "      <td>[guest, keyword research, writing, search engi...</td>\n",
       "    </tr>\n",
       "    <tr>\n",
       "      <th>89</th>\n",
       "      <td>90</td>\n",
       "      <td>10</td>\n",
       "      <td>Trainer/Faculty</td>\n",
       "      <td>trainer/faculty</td>\n",
       "      <td>90</td>\n",
       "      <td>[data science, statistics, deep learning, r, p...</td>\n",
       "    </tr>\n",
       "    <tr>\n",
       "      <th>90</th>\n",
       "      <td>91</td>\n",
       "      <td>3</td>\n",
       "      <td>Ui/Ux Developer</td>\n",
       "      <td>ui/ux developer</td>\n",
       "      <td>91</td>\n",
       "      <td>[software development, application, ajax, tech...</td>\n",
       "    </tr>\n",
       "    <tr>\n",
       "      <th>91</th>\n",
       "      <td>92</td>\n",
       "      <td>1</td>\n",
       "      <td>Web Developer</td>\n",
       "      <td>web developer</td>\n",
       "      <td>92</td>\n",
       "      <td>[google analytics, case studies, social media,...</td>\n",
       "    </tr>\n",
       "  </tbody>\n",
       "</table>\n",
       "</div>"
      ],
      "text/plain": [
       "    specialization_id  field_id                       title  \\\n",
       "87                 88        10  Technical Support Engineer   \n",
       "88                 89        10                     Trainee   \n",
       "89                 90        10             Trainer/Faculty   \n",
       "90                 91         3             Ui/Ux Developer   \n",
       "91                 92         1               Web Developer   \n",
       "\n",
       "                   description  roadmap_id  \\\n",
       "87  technical support engineer          88   \n",
       "88                     trainee          89   \n",
       "89             trainer/faculty          90   \n",
       "90             ui/ux developer          91   \n",
       "91               web developer          92   \n",
       "\n",
       "                                           skill_list  \n",
       "87  [unix operating system, netbackup, windows os,...  \n",
       "88  [guest, keyword research, writing, search engi...  \n",
       "89  [data science, statistics, deep learning, r, p...  \n",
       "90  [software development, application, ajax, tech...  \n",
       "91  [google analytics, case studies, social media,...  "
      ]
     },
     "execution_count": 424,
     "metadata": {},
     "output_type": "execute_result"
    }
   ],
   "source": [
    "IT_sub.tail()"
   ]
  },
  {
   "cell_type": "code",
   "execution_count": 425,
   "metadata": {},
   "outputs": [],
   "source": [
    "# add IT_sub to specialization\n",
    "specialization_2 = pd.concat([specialization, IT_sub])"
   ]
  },
  {
   "cell_type": "code",
   "execution_count": 426,
   "metadata": {},
   "outputs": [
    {
     "data": {
      "text/plain": [
       "(92, 6)"
      ]
     },
     "execution_count": 426,
     "metadata": {},
     "output_type": "execute_result"
    }
   ],
   "source": [
    "specialization_2.shape"
   ]
  },
  {
   "cell_type": "code",
   "execution_count": 427,
   "metadata": {},
   "outputs": [
    {
     "data": {
      "text/plain": [
       "92"
      ]
     },
     "execution_count": 427,
     "metadata": {},
     "output_type": "execute_result"
    }
   ],
   "source": [
    "specialization_2['title'].nunique()"
   ]
  },
  {
   "cell_type": "code",
   "execution_count": 428,
   "metadata": {},
   "outputs": [
    {
     "data": {
      "text/html": [
       "<div>\n",
       "<style scoped>\n",
       "    .dataframe tbody tr th:only-of-type {\n",
       "        vertical-align: middle;\n",
       "    }\n",
       "\n",
       "    .dataframe tbody tr th {\n",
       "        vertical-align: top;\n",
       "    }\n",
       "\n",
       "    .dataframe thead th {\n",
       "        text-align: right;\n",
       "    }\n",
       "</style>\n",
       "<table border=\"1\" class=\"dataframe\">\n",
       "  <thead>\n",
       "    <tr style=\"text-align: right;\">\n",
       "      <th></th>\n",
       "      <th>specialization_id</th>\n",
       "      <th>field_id</th>\n",
       "      <th>title</th>\n",
       "      <th>description</th>\n",
       "      <th>roadmap_id</th>\n",
       "      <th>skill_list</th>\n",
       "    </tr>\n",
       "  </thead>\n",
       "  <tbody>\n",
       "  </tbody>\n",
       "</table>\n",
       "</div>"
      ],
      "text/plain": [
       "Empty DataFrame\n",
       "Columns: [specialization_id, field_id, title, description, roadmap_id, skill_list]\n",
       "Index: []"
      ]
     },
     "execution_count": 428,
     "metadata": {},
     "output_type": "execute_result"
    }
   ],
   "source": [
    "# get duplicate title and \n",
    "duplicate_specialization = specialization_2[specialization_2.duplicated(['title'])]\n",
    "duplicate_specialization"
   ]
  },
  {
   "cell_type": "code",
   "execution_count": 429,
   "metadata": {},
   "outputs": [
    {
     "data": {
      "text/html": [
       "<div>\n",
       "<style scoped>\n",
       "    .dataframe tbody tr th:only-of-type {\n",
       "        vertical-align: middle;\n",
       "    }\n",
       "\n",
       "    .dataframe tbody tr th {\n",
       "        vertical-align: top;\n",
       "    }\n",
       "\n",
       "    .dataframe thead th {\n",
       "        text-align: right;\n",
       "    }\n",
       "</style>\n",
       "<table border=\"1\" class=\"dataframe\">\n",
       "  <thead>\n",
       "    <tr style=\"text-align: right;\">\n",
       "      <th></th>\n",
       "      <th>specialization_id</th>\n",
       "      <th>field_id</th>\n",
       "      <th>title</th>\n",
       "      <th>description</th>\n",
       "      <th>roadmap_id</th>\n",
       "      <th>skill_list</th>\n",
       "    </tr>\n",
       "  </thead>\n",
       "  <tbody>\n",
       "    <tr>\n",
       "      <th>14</th>\n",
       "      <td>15</td>\n",
       "      <td>2</td>\n",
       "      <td>Data Engineer</td>\n",
       "      <td>Data Engineers build and maintain the data inf...</td>\n",
       "      <td>15</td>\n",
       "      <td>[data pipeline development, data integration, ...</td>\n",
       "    </tr>\n",
       "  </tbody>\n",
       "</table>\n",
       "</div>"
      ],
      "text/plain": [
       "    specialization_id  field_id          title  \\\n",
       "14                 15         2  Data Engineer   \n",
       "\n",
       "                                          description  roadmap_id  \\\n",
       "14  Data Engineers build and maintain the data inf...          15   \n",
       "\n",
       "                                           skill_list  \n",
       "14  [data pipeline development, data integration, ...  "
      ]
     },
     "execution_count": 429,
     "metadata": {},
     "output_type": "execute_result"
    }
   ],
   "source": [
    "specialization_2[specialization_2['title'] == 'Data Engineer']"
   ]
  },
  {
   "cell_type": "code",
   "execution_count": 440,
   "metadata": {},
   "outputs": [
    {
     "data": {
      "text/html": [
       "<div>\n",
       "<style scoped>\n",
       "    .dataframe tbody tr th:only-of-type {\n",
       "        vertical-align: middle;\n",
       "    }\n",
       "\n",
       "    .dataframe tbody tr th {\n",
       "        vertical-align: top;\n",
       "    }\n",
       "\n",
       "    .dataframe thead th {\n",
       "        text-align: right;\n",
       "    }\n",
       "</style>\n",
       "<table border=\"1\" class=\"dataframe\">\n",
       "  <thead>\n",
       "    <tr style=\"text-align: right;\">\n",
       "      <th></th>\n",
       "      <th>specialization_id</th>\n",
       "      <th>field_id</th>\n",
       "      <th>title</th>\n",
       "      <th>description</th>\n",
       "      <th>roadmap_id</th>\n",
       "      <th>skill_list</th>\n",
       "    </tr>\n",
       "  </thead>\n",
       "  <tbody>\n",
       "    <tr>\n",
       "      <th>87</th>\n",
       "      <td>88</td>\n",
       "      <td>10</td>\n",
       "      <td>Technical Support Engineer</td>\n",
       "      <td>technical support engineer</td>\n",
       "      <td>88</td>\n",
       "      <td>[unix operating system, netbackup, windows os,...</td>\n",
       "    </tr>\n",
       "    <tr>\n",
       "      <th>18</th>\n",
       "      <td>19</td>\n",
       "      <td>3</td>\n",
       "      <td>Visual Designer</td>\n",
       "      <td>Visual Designers create graphics, illustration...</td>\n",
       "      <td>19</td>\n",
       "      <td>[graphic design, typography, color theory, lay...</td>\n",
       "    </tr>\n",
       "    <tr>\n",
       "      <th>86</th>\n",
       "      <td>87</td>\n",
       "      <td>10</td>\n",
       "      <td>Technical Lead</td>\n",
       "      <td>technical lead</td>\n",
       "      <td>87</td>\n",
       "      <td>[wan, tools, linux, solaris, aix, system softw...</td>\n",
       "    </tr>\n",
       "    <tr>\n",
       "      <th>17</th>\n",
       "      <td>18</td>\n",
       "      <td>3</td>\n",
       "      <td>Interaction Designer</td>\n",
       "      <td>Interaction Designers specialize in designing ...</td>\n",
       "      <td>18</td>\n",
       "      <td>[interaction design principles, user-centered ...</td>\n",
       "    </tr>\n",
       "    <tr>\n",
       "      <th>37</th>\n",
       "      <td>38</td>\n",
       "      <td>10</td>\n",
       "      <td>Quantum Computing Scientist</td>\n",
       "      <td>Quantum Computing Scientists research and deve...</td>\n",
       "      <td>38</td>\n",
       "      <td>[quantum computing, quantum algorithms, quantu...</td>\n",
       "    </tr>\n",
       "    <tr>\n",
       "      <th>74</th>\n",
       "      <td>75</td>\n",
       "      <td>10</td>\n",
       "      <td>Servicenow Developer</td>\n",
       "      <td>servicenow developer</td>\n",
       "      <td>75</td>\n",
       "      <td>[vulnerability management, rest, ajax, java, s...</td>\n",
       "    </tr>\n",
       "    <tr>\n",
       "      <th>25</th>\n",
       "      <td>26</td>\n",
       "      <td>6</td>\n",
       "      <td>Ethical Hacker (Penetration Tester)</td>\n",
       "      <td>Penetration Testing, Vulnerability Scanning, E...</td>\n",
       "      <td>26</td>\n",
       "      <td>[penetration testing, vulnerability scanning, ...</td>\n",
       "    </tr>\n",
       "    <tr>\n",
       "      <th>69</th>\n",
       "      <td>70</td>\n",
       "      <td>5</td>\n",
       "      <td>Quality Assurance Engineer</td>\n",
       "      <td>quality assurance engineer</td>\n",
       "      <td>70</td>\n",
       "      <td>[test cases, manual testing, web testing, web ...</td>\n",
       "    </tr>\n",
       "    <tr>\n",
       "      <th>41</th>\n",
       "      <td>42</td>\n",
       "      <td>1</td>\n",
       "      <td>Application Developer</td>\n",
       "      <td>application developer</td>\n",
       "      <td>42</td>\n",
       "      <td>[weblogic, junit, jpa, sql, json, html, jms, j...</td>\n",
       "    </tr>\n",
       "    <tr>\n",
       "      <th>2</th>\n",
       "      <td>3</td>\n",
       "      <td>1</td>\n",
       "      <td>Full Stack</td>\n",
       "      <td>Full Stack Developers have expertise in both F...</td>\n",
       "      <td>3</td>\n",
       "      <td>[front-end, back-end, full stack frameworks, w...</td>\n",
       "    </tr>\n",
       "    <tr>\n",
       "      <th>42</th>\n",
       "      <td>43</td>\n",
       "      <td>1</td>\n",
       "      <td>Backend Developer</td>\n",
       "      <td>backend developer</td>\n",
       "      <td>43</td>\n",
       "      <td>[computer science, http, php, data structures,...</td>\n",
       "    </tr>\n",
       "    <tr>\n",
       "      <th>78</th>\n",
       "      <td>79</td>\n",
       "      <td>10</td>\n",
       "      <td>Support Engineer</td>\n",
       "      <td>support engineer</td>\n",
       "      <td>79</td>\n",
       "      <td>[networking, information technology management...</td>\n",
       "    </tr>\n",
       "    <tr>\n",
       "      <th>71</th>\n",
       "      <td>72</td>\n",
       "      <td>8</td>\n",
       "      <td>Release Manager</td>\n",
       "      <td>release manager</td>\n",
       "      <td>72</td>\n",
       "      <td>[wan, capacity management, computer science, e...</td>\n",
       "    </tr>\n",
       "    <tr>\n",
       "      <th>83</th>\n",
       "      <td>84</td>\n",
       "      <td>4</td>\n",
       "      <td>Team/Technical Lead</td>\n",
       "      <td>team/technical lead</td>\n",
       "      <td>84</td>\n",
       "      <td>[cisco call manager, offshore, java, communica...</td>\n",
       "    </tr>\n",
       "    <tr>\n",
       "      <th>46</th>\n",
       "      <td>47</td>\n",
       "      <td>2</td>\n",
       "      <td>Database Administrator</td>\n",
       "      <td>database administrator</td>\n",
       "      <td>47</td>\n",
       "      <td>[weblogic, oracle rac, installation, mysql, tr...</td>\n",
       "    </tr>\n",
       "  </tbody>\n",
       "</table>\n",
       "</div>"
      ],
      "text/plain": [
       "    specialization_id  field_id                                title  \\\n",
       "87                 88        10           Technical Support Engineer   \n",
       "18                 19         3                      Visual Designer   \n",
       "86                 87        10                       Technical Lead   \n",
       "17                 18         3                 Interaction Designer   \n",
       "37                 38        10          Quantum Computing Scientist   \n",
       "74                 75        10                 Servicenow Developer   \n",
       "25                 26         6  Ethical Hacker (Penetration Tester)   \n",
       "69                 70         5           Quality Assurance Engineer   \n",
       "41                 42         1                Application Developer   \n",
       "2                   3         1                           Full Stack   \n",
       "42                 43         1                    Backend Developer   \n",
       "78                 79        10                     Support Engineer   \n",
       "71                 72         8                      Release Manager   \n",
       "83                 84         4                  Team/Technical Lead   \n",
       "46                 47         2               Database Administrator   \n",
       "\n",
       "                                          description  roadmap_id  \\\n",
       "87                         technical support engineer          88   \n",
       "18  Visual Designers create graphics, illustration...          19   \n",
       "86                                     technical lead          87   \n",
       "17  Interaction Designers specialize in designing ...          18   \n",
       "37  Quantum Computing Scientists research and deve...          38   \n",
       "74                               servicenow developer          75   \n",
       "25  Penetration Testing, Vulnerability Scanning, E...          26   \n",
       "69                         quality assurance engineer          70   \n",
       "41                              application developer          42   \n",
       "2   Full Stack Developers have expertise in both F...           3   \n",
       "42                                  backend developer          43   \n",
       "78                                   support engineer          79   \n",
       "71                                    release manager          72   \n",
       "83                                team/technical lead          84   \n",
       "46                             database administrator          47   \n",
       "\n",
       "                                           skill_list  \n",
       "87  [unix operating system, netbackup, windows os,...  \n",
       "18  [graphic design, typography, color theory, lay...  \n",
       "86  [wan, tools, linux, solaris, aix, system softw...  \n",
       "17  [interaction design principles, user-centered ...  \n",
       "37  [quantum computing, quantum algorithms, quantu...  \n",
       "74  [vulnerability management, rest, ajax, java, s...  \n",
       "25  [penetration testing, vulnerability scanning, ...  \n",
       "69  [test cases, manual testing, web testing, web ...  \n",
       "41  [weblogic, junit, jpa, sql, json, html, jms, j...  \n",
       "2   [front-end, back-end, full stack frameworks, w...  \n",
       "42  [computer science, http, php, data structures,...  \n",
       "78  [networking, information technology management...  \n",
       "71  [wan, capacity management, computer science, e...  \n",
       "83  [cisco call manager, offshore, java, communica...  \n",
       "46  [weblogic, oracle rac, installation, mysql, tr...  "
      ]
     },
     "execution_count": 440,
     "metadata": {},
     "output_type": "execute_result"
    }
   ],
   "source": [
    "specialization_2.sample(15)"
   ]
  },
  {
   "cell_type": "code",
   "execution_count": 437,
   "metadata": {},
   "outputs": [],
   "source": [
    "# make first letter of each word capital\n",
    "specialization_2['title'] = specialization_2['title'].str.title()"
   ]
  },
  {
   "cell_type": "code",
   "execution_count": 442,
   "metadata": {},
   "outputs": [],
   "source": [
    "specialization_3 = specialization_2[['specialization_id','title','description','roadmap_id','field_id']]"
   ]
  },
  {
   "cell_type": "code",
   "execution_count": 443,
   "metadata": {},
   "outputs": [],
   "source": [
    "# save csv\n",
    "specialization_2.to_csv('../../static/csv/specialization3.csv', index=False)"
   ]
  },
  {
   "cell_type": "code",
   "execution_count": 444,
   "metadata": {},
   "outputs": [],
   "source": [
    "specialization_2 = specialization_2[['specialization_id','title','description','roadmap_id','field_id','skill_list']]"
   ]
  },
  {
   "cell_type": "code",
   "execution_count": 445,
   "metadata": {},
   "outputs": [],
   "source": [
    "# save csv\n",
    "specialization_2.to_csv('../../static/csv/specialization3_skills.csv', index=False)"
   ]
  },
  {
   "cell_type": "markdown",
   "metadata": {},
   "source": [
    "# Apending Specialization3_Skills to skill_list"
   ]
  },
  {
   "cell_type": "code",
   "execution_count": 7,
   "metadata": {},
   "outputs": [
    {
     "data": {
      "text/html": [
       "<div>\n",
       "<style scoped>\n",
       "    .dataframe tbody tr th:only-of-type {\n",
       "        vertical-align: middle;\n",
       "    }\n",
       "\n",
       "    .dataframe tbody tr th {\n",
       "        vertical-align: top;\n",
       "    }\n",
       "\n",
       "    .dataframe thead th {\n",
       "        text-align: right;\n",
       "    }\n",
       "</style>\n",
       "<table border=\"1\" class=\"dataframe\">\n",
       "  <thead>\n",
       "    <tr style=\"text-align: right;\">\n",
       "      <th></th>\n",
       "      <th>specialization_id</th>\n",
       "      <th>title</th>\n",
       "      <th>description</th>\n",
       "      <th>roadmap_id</th>\n",
       "      <th>field_id</th>\n",
       "      <th>skill_list</th>\n",
       "    </tr>\n",
       "  </thead>\n",
       "  <tbody>\n",
       "    <tr>\n",
       "      <th>89</th>\n",
       "      <td>90</td>\n",
       "      <td>Trainer/Faculty</td>\n",
       "      <td>trainer/faculty</td>\n",
       "      <td>90</td>\n",
       "      <td>10</td>\n",
       "      <td>['data science', 'statistics', 'deep learning'...</td>\n",
       "    </tr>\n",
       "    <tr>\n",
       "      <th>90</th>\n",
       "      <td>91</td>\n",
       "      <td>Ui/Ux Developer</td>\n",
       "      <td>ui/ux developer</td>\n",
       "      <td>91</td>\n",
       "      <td>3</td>\n",
       "      <td>['software development', 'application', 'ajax'...</td>\n",
       "    </tr>\n",
       "    <tr>\n",
       "      <th>91</th>\n",
       "      <td>92</td>\n",
       "      <td>Web Developer</td>\n",
       "      <td>web developer</td>\n",
       "      <td>92</td>\n",
       "      <td>1</td>\n",
       "      <td>['google analytics', 'case studies', 'social m...</td>\n",
       "    </tr>\n",
       "  </tbody>\n",
       "</table>\n",
       "</div>"
      ],
      "text/plain": [
       "    specialization_id            title      description  roadmap_id  field_id  \\\n",
       "89                 90  Trainer/Faculty  trainer/faculty          90        10   \n",
       "90                 91  Ui/Ux Developer  ui/ux developer          91         3   \n",
       "91                 92    Web Developer    web developer          92         1   \n",
       "\n",
       "                                           skill_list  \n",
       "89  ['data science', 'statistics', 'deep learning'...  \n",
       "90  ['software development', 'application', 'ajax'...  \n",
       "91  ['google analytics', 'case studies', 'social m...  "
      ]
     },
     "execution_count": 7,
     "metadata": {},
     "output_type": "execute_result"
    }
   ],
   "source": [
    "specialization3_skills = pd.read_csv('../../static/csv/specialization3_skills.csv')\n",
    "specialization3_skills.tail(3)"
   ]
  },
  {
   "cell_type": "code",
   "execution_count": 8,
   "metadata": {},
   "outputs": [
    {
     "data": {
      "text/html": [
       "<div>\n",
       "<style scoped>\n",
       "    .dataframe tbody tr th:only-of-type {\n",
       "        vertical-align: middle;\n",
       "    }\n",
       "\n",
       "    .dataframe tbody tr th {\n",
       "        vertical-align: top;\n",
       "    }\n",
       "\n",
       "    .dataframe thead th {\n",
       "        text-align: right;\n",
       "    }\n",
       "</style>\n",
       "<table border=\"1\" class=\"dataframe\">\n",
       "  <thead>\n",
       "    <tr style=\"text-align: right;\">\n",
       "      <th></th>\n",
       "      <th>specialization_id</th>\n",
       "      <th>title</th>\n",
       "      <th>description</th>\n",
       "      <th>roadmap_id</th>\n",
       "      <th>field_id</th>\n",
       "      <th>skill_list</th>\n",
       "    </tr>\n",
       "  </thead>\n",
       "  <tbody>\n",
       "    <tr>\n",
       "      <th>0</th>\n",
       "      <td>1</td>\n",
       "      <td>Front-End</td>\n",
       "      <td>Front-End Developers are responsible for creat...</td>\n",
       "      <td>1</td>\n",
       "      <td>1</td>\n",
       "      <td>['html',  'css',  'javascript',  'web design',...</td>\n",
       "    </tr>\n",
       "    <tr>\n",
       "      <th>1</th>\n",
       "      <td>2</td>\n",
       "      <td>Back-End</td>\n",
       "      <td>Back-End Developers work on the server-side of...</td>\n",
       "      <td>2</td>\n",
       "      <td>1</td>\n",
       "      <td>['node.js',  'python',  'ruby',  'java',  'dat...</td>\n",
       "    </tr>\n",
       "    <tr>\n",
       "      <th>2</th>\n",
       "      <td>3</td>\n",
       "      <td>Full Stack</td>\n",
       "      <td>Full Stack Developers have expertise in both F...</td>\n",
       "      <td>3</td>\n",
       "      <td>1</td>\n",
       "      <td>['front-end',  'back-end',  'full stack framew...</td>\n",
       "    </tr>\n",
       "    <tr>\n",
       "      <th>3</th>\n",
       "      <td>4</td>\n",
       "      <td>Software Engineer</td>\n",
       "      <td>Software Engineers design and develop software...</td>\n",
       "      <td>4</td>\n",
       "      <td>1</td>\n",
       "      <td>['software development',  'algorithm design', ...</td>\n",
       "    </tr>\n",
       "    <tr>\n",
       "      <th>4</th>\n",
       "      <td>5</td>\n",
       "      <td>Software Developer</td>\n",
       "      <td>Software Developers write, test, and maintain ...</td>\n",
       "      <td>5</td>\n",
       "      <td>1</td>\n",
       "      <td>['java',  'python',  'c++',  'software design'...</td>\n",
       "    </tr>\n",
       "  </tbody>\n",
       "</table>\n",
       "</div>"
      ],
      "text/plain": [
       "   specialization_id               title  \\\n",
       "0                  1           Front-End   \n",
       "1                  2            Back-End   \n",
       "2                  3          Full Stack   \n",
       "3                  4   Software Engineer   \n",
       "4                  5  Software Developer   \n",
       "\n",
       "                                         description  roadmap_id  field_id  \\\n",
       "0  Front-End Developers are responsible for creat...           1         1   \n",
       "1  Back-End Developers work on the server-side of...           2         1   \n",
       "2  Full Stack Developers have expertise in both F...           3         1   \n",
       "3  Software Engineers design and develop software...           4         1   \n",
       "4  Software Developers write, test, and maintain ...           5         1   \n",
       "\n",
       "                                          skill_list  \n",
       "0  ['html',  'css',  'javascript',  'web design',...  \n",
       "1  ['node.js',  'python',  'ruby',  'java',  'dat...  \n",
       "2  ['front-end',  'back-end',  'full stack framew...  \n",
       "3  ['software development',  'algorithm design', ...  \n",
       "4  ['java',  'python',  'c++',  'software design'...  "
      ]
     },
     "execution_count": 8,
     "metadata": {},
     "output_type": "execute_result"
    }
   ],
   "source": [
    "# for each row, get the skill_list and combine them into one list\n",
    "specialization3_skills['skill_list'] = specialization3_skills['skill_list'].apply(lambda x: x[1:-1].split(','))\n",
    "specialization3_skills.head()"
   ]
  },
  {
   "cell_type": "code",
   "execution_count": 19,
   "metadata": {},
   "outputs": [
    {
     "data": {
      "text/plain": [
       "51072"
      ]
     },
     "execution_count": 19,
     "metadata": {},
     "output_type": "execute_result"
    }
   ],
   "source": [
    "# Create a list of skills by combining all the skills from the 'skills_list' column\n",
    "all_skills = [skill for skill_list in specialization3_skills['skill_list'] for skill in skill_list]\n",
    "\n",
    "len(all_skills)"
   ]
  },
  {
   "cell_type": "code",
   "execution_count": 24,
   "metadata": {},
   "outputs": [],
   "source": [
    "# remove ' and space at front from each string in list\n",
    "all_skills = [skill.strip(\"' \") for skill in all_skills]"
   ]
  },
  {
   "cell_type": "code",
   "execution_count": 26,
   "metadata": {},
   "outputs": [
    {
     "data": {
      "text/plain": [
       "array(['opengl', 'sql', 'management', 'mvc architecture', 'c++',\n",
       "       'collection framework', 'core java', 'web services', 'design',\n",
       "       'mongodb'], dtype='<U93')"
      ]
     },
     "execution_count": 26,
     "metadata": {},
     "output_type": "execute_result"
    }
   ],
   "source": [
    "# sample skills from all_skills\n",
    "sample_skills = np.random.choice(all_skills, 10)\n",
    "sample_skills"
   ]
  },
  {
   "cell_type": "code",
   "execution_count": 27,
   "metadata": {},
   "outputs": [
    {
     "data": {
      "text/html": [
       "<div>\n",
       "<style scoped>\n",
       "    .dataframe tbody tr th:only-of-type {\n",
       "        vertical-align: middle;\n",
       "    }\n",
       "\n",
       "    .dataframe tbody tr th {\n",
       "        vertical-align: top;\n",
       "    }\n",
       "\n",
       "    .dataframe thead th {\n",
       "        text-align: right;\n",
       "    }\n",
       "</style>\n",
       "<table border=\"1\" class=\"dataframe\">\n",
       "  <thead>\n",
       "    <tr style=\"text-align: right;\">\n",
       "      <th></th>\n",
       "      <th>id</th>\n",
       "      <th>skill</th>\n",
       "    </tr>\n",
       "  </thead>\n",
       "  <tbody>\n",
       "    <tr>\n",
       "      <th>317</th>\n",
       "      <td>220</td>\n",
       "      <td>social interactions</td>\n",
       "    </tr>\n",
       "    <tr>\n",
       "      <th>318</th>\n",
       "      <td>221</td>\n",
       "      <td>adaptability</td>\n",
       "    </tr>\n",
       "    <tr>\n",
       "      <th>319</th>\n",
       "      <td>222</td>\n",
       "      <td>spontaneity</td>\n",
       "    </tr>\n",
       "  </tbody>\n",
       "</table>\n",
       "</div>"
      ],
      "text/plain": [
       "      id                skill\n",
       "317  220  social interactions\n",
       "318  221         adaptability\n",
       "319  222          spontaneity"
      ]
     },
     "execution_count": 27,
     "metadata": {},
     "output_type": "execute_result"
    }
   ],
   "source": [
    "# load skill_3.csv\n",
    "skill_3 = pd.read_csv('../../static/csv/skill_3.csv')\n",
    "skill_3.tail(3)"
   ]
  },
  {
   "cell_type": "code",
   "execution_count": 32,
   "metadata": {},
   "outputs": [
    {
     "data": {
      "text/plain": [
       "(320, 2)"
      ]
     },
     "execution_count": 32,
     "metadata": {},
     "output_type": "execute_result"
    }
   ],
   "source": [
    "skill_3.shape"
   ]
  },
  {
   "cell_type": "code",
   "execution_count": 28,
   "metadata": {},
   "outputs": [
    {
     "data": {
      "text/plain": [
       "320"
      ]
     },
     "execution_count": 28,
     "metadata": {},
     "output_type": "execute_result"
    }
   ],
   "source": [
    "# on skill_3, get the skill_name and save it to skill_3_list\n",
    "skill_3_list = skill_3['skill'].tolist()\n",
    "len(skill_3_list)"
   ]
  },
  {
   "cell_type": "code",
   "execution_count": 29,
   "metadata": {},
   "outputs": [
    {
     "data": {
      "text/plain": [
       "45342"
      ]
     },
     "execution_count": 29,
     "metadata": {},
     "output_type": "execute_result"
    }
   ],
   "source": [
    "# remove skills that are in skill_3_list\n",
    "skills_not_in_3 = [skill for skill in all_skills if skill not in skill_3_list]\n",
    "len(skills_not_in_3)"
   ]
  },
  {
   "cell_type": "code",
   "execution_count": 30,
   "metadata": {},
   "outputs": [
    {
     "data": {
      "text/plain": [
       "157"
      ]
     },
     "execution_count": 30,
     "metadata": {},
     "output_type": "execute_result"
    }
   ],
   "source": [
    "# remove skills from skill_3_list if its on all_skills\n",
    "skill_3_not_in_all_skill = [skill for skill in skill_3_list if skill not in all_skills]\n",
    "len(skill_3_not_in_all_skill)"
   ]
  },
  {
   "cell_type": "code",
   "execution_count": 31,
   "metadata": {},
   "outputs": [
    {
     "data": {
      "text/plain": [
       "222"
      ]
     },
     "execution_count": 31,
     "metadata": {},
     "output_type": "execute_result"
    }
   ],
   "source": [
    "# on skill_3 get last id\n",
    "last_id = skill_3['id'].iloc[-1]\n",
    "last_id"
   ]
  },
  {
   "cell_type": "code",
   "execution_count": null,
   "metadata": {},
   "outputs": [],
   "source": []
  }
 ],
 "metadata": {
  "kernelspec": {
   "display_name": "datasci",
   "language": "python",
   "name": "python3"
  },
  "language_info": {
   "codemirror_mode": {
    "name": "ipython",
    "version": 3
   },
   "file_extension": ".py",
   "mimetype": "text/x-python",
   "name": "python",
   "nbconvert_exporter": "python",
   "pygments_lexer": "ipython3",
   "version": "3.8.5"
  }
 },
 "nbformat": 4,
 "nbformat_minor": 2
}
